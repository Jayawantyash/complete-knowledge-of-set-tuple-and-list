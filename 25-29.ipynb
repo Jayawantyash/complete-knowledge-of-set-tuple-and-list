{
 "cells": [
  {
   "cell_type": "code",
   "execution_count": 10,
   "id": "4eb48828-9a99-4bdc-9da1-aa9b874500c6",
   "metadata": {},
   "outputs": [
    {
     "data": {
      "text/plain": [
       "30.0"
      ]
     },
     "execution_count": 10,
     "metadata": {},
     "output_type": "execute_result"
    }
   ],
   "source": [
    "float(30)\n"
   ]
  },
  {
   "cell_type": "code",
   "execution_count": 11,
   "id": "0c63cd92-5f04-4f35-b5bf-d622400e6fe6",
   "metadata": {},
   "outputs": [
    {
     "data": {
      "text/plain": [
       "1.0"
      ]
     },
     "execution_count": 11,
     "metadata": {},
     "output_type": "execute_result"
    }
   ],
   "source": [
    "float(True)"
   ]
  },
  {
   "cell_type": "code",
   "execution_count": 14,
   "id": "7fa7be77-987f-484b-a21b-484b16f2712c",
   "metadata": {},
   "outputs": [
    {
     "ename": "TypeError",
     "evalue": "float() argument must be a string or a real number, not 'complex'",
     "output_type": "error",
     "traceback": [
      "\u001b[1;31m---------------------------------------------------------------------------\u001b[0m",
      "\u001b[1;31mTypeError\u001b[0m                                 Traceback (most recent call last)",
      "Cell \u001b[1;32mIn[14], line 1\u001b[0m\n\u001b[1;32m----> 1\u001b[0m \u001b[38;5;28mfloat\u001b[39m(\u001b[38;5;241m1\u001b[39m\u001b[38;5;241m+\u001b[39m\u001b[38;5;241m3\u001b[39mj)\n",
      "\u001b[1;31mTypeError\u001b[0m: float() argument must be a string or a real number, not 'complex'"
     ]
    }
   ],
   "source": [
    "float(1+3j)"
   ]
  },
  {
   "cell_type": "code",
   "execution_count": 13,
   "id": "638653aa-efd9-4e93-bdd6-2268554bea78",
   "metadata": {},
   "outputs": [
    {
     "ename": "ValueError",
     "evalue": "could not convert string to float: 'ten'",
     "output_type": "error",
     "traceback": [
      "\u001b[1;31m---------------------------------------------------------------------------\u001b[0m",
      "\u001b[1;31mValueError\u001b[0m                                Traceback (most recent call last)",
      "Cell \u001b[1;32mIn[13], line 1\u001b[0m\n\u001b[1;32m----> 1\u001b[0m \u001b[38;5;28mfloat\u001b[39m(\u001b[38;5;124m'\u001b[39m\u001b[38;5;124mten\u001b[39m\u001b[38;5;124m'\u001b[39m)\n",
      "\u001b[1;31mValueError\u001b[0m: could not convert string to float: 'ten'"
     ]
    }
   ],
   "source": [
    "float('ten')"
   ]
  },
  {
   "cell_type": "code",
   "execution_count": 15,
   "id": "742ac789-2a4f-448d-a4ef-b560925fa665",
   "metadata": {},
   "outputs": [
    {
     "data": {
      "text/plain": [
       "10.0"
      ]
     },
     "execution_count": 15,
     "metadata": {},
     "output_type": "execute_result"
    }
   ],
   "source": [
    "float('10')"
   ]
  },
  {
   "cell_type": "code",
   "execution_count": 16,
   "id": "e01d41dc-bd3d-4ed4-b637-3bfe412ed764",
   "metadata": {},
   "outputs": [
    {
     "data": {
      "text/plain": [
       "(10+0j)"
      ]
     },
     "execution_count": 16,
     "metadata": {},
     "output_type": "execute_result"
    }
   ],
   "source": [
    "complex(10)"
   ]
  },
  {
   "cell_type": "code",
   "execution_count": 17,
   "id": "b14d48c6-7c5c-454b-bc63-fcb96638ab46",
   "metadata": {},
   "outputs": [
    {
     "data": {
      "text/plain": [
       "(20+30j)"
      ]
     },
     "execution_count": 17,
     "metadata": {},
     "output_type": "execute_result"
    }
   ],
   "source": [
    "complex(20,30)"
   ]
  },
  {
   "cell_type": "code",
   "execution_count": 18,
   "id": "b2575885-1a81-4e15-bae8-2224d09734cb",
   "metadata": {},
   "outputs": [
    {
     "ename": "TypeError",
     "evalue": "complex() takes at most 2 arguments (3 given)",
     "output_type": "error",
     "traceback": [
      "\u001b[1;31m---------------------------------------------------------------------------\u001b[0m",
      "\u001b[1;31mTypeError\u001b[0m                                 Traceback (most recent call last)",
      "Cell \u001b[1;32mIn[18], line 1\u001b[0m\n\u001b[1;32m----> 1\u001b[0m \u001b[38;5;28mcomplex\u001b[39m(\u001b[38;5;241m10\u001b[39m,\u001b[38;5;241m20\u001b[39m,\u001b[38;5;241m30\u001b[39m)\n",
      "\u001b[1;31mTypeError\u001b[0m: complex() takes at most 2 arguments (3 given)"
     ]
    }
   ],
   "source": [
    "complex(10,20,30)#complex take make 2 arg"
   ]
  },
  {
   "cell_type": "code",
   "execution_count": 19,
   "id": "6de9767f-a6fc-47b9-8eaa-2815486ba918",
   "metadata": {},
   "outputs": [
    {
     "data": {
      "text/plain": [
       "(2.6+0j)"
      ]
     },
     "execution_count": 19,
     "metadata": {},
     "output_type": "execute_result"
    }
   ],
   "source": [
    "complex(2.6)"
   ]
  },
  {
   "cell_type": "code",
   "execution_count": 20,
   "id": "28b2a097-8c93-4cab-9e5d-9e755ab59b55",
   "metadata": {},
   "outputs": [
    {
     "data": {
      "text/plain": [
       "(2.6+20j)"
      ]
     },
     "execution_count": 20,
     "metadata": {},
     "output_type": "execute_result"
    }
   ],
   "source": [
    "complex(2.6,20)"
   ]
  },
  {
   "cell_type": "code",
   "execution_count": 22,
   "id": "c4ba7f81-72c0-4145-b83f-3210aacaad9c",
   "metadata": {},
   "outputs": [
    {
     "data": {
      "text/plain": [
       "(1+0j)"
      ]
     },
     "execution_count": 22,
     "metadata": {},
     "output_type": "execute_result"
    }
   ],
   "source": [
    "complex(True)"
   ]
  },
  {
   "cell_type": "code",
   "execution_count": 23,
   "id": "06738027-7e60-47d7-a781-3df037ef15c4",
   "metadata": {},
   "outputs": [
    {
     "data": {
      "text/plain": [
       "0j"
      ]
     },
     "execution_count": 23,
     "metadata": {},
     "output_type": "execute_result"
    }
   ],
   "source": [
    "complex(False)"
   ]
  },
  {
   "cell_type": "code",
   "execution_count": null,
   "id": "69dfbbd1-390c-4a4e-9055-26de6e582628",
   "metadata": {},
   "outputs": [],
   "source": [
    "complex('20')"
   ]
  },
  {
   "cell_type": "code",
   "execution_count": null,
   "id": "a12ab8d9-d513-4371-ba3b-f79eb15134de",
   "metadata": {},
   "outputs": [],
   "source": [
    "bool(1)"
   ]
  },
  {
   "cell_type": "code",
   "execution_count": null,
   "id": "34f139db-1890-4ab4-9646-9b97acd3ac83",
   "metadata": {},
   "outputs": [],
   "source": [
    "bool(0)"
   ]
  },
  {
   "cell_type": "code",
   "execution_count": null,
   "id": "e9d019ab-f0b3-43ee-b47e-effdc033d8a5",
   "metadata": {},
   "outputs": [],
   "source": [
    "bool(0.23)"
   ]
  },
  {
   "cell_type": "code",
   "execution_count": null,
   "id": "39656cd7-62ee-4d0a-a6b7-78c0b8245f15",
   "metadata": {},
   "outputs": [],
   "source": [
    "bool(25)"
   ]
  },
  {
   "cell_type": "code",
   "execution_count": null,
   "id": "98f90737-b9aa-443f-81cc-9e581068b01e",
   "metadata": {},
   "outputs": [],
   "source": [
    "bool(10+20j)"
   ]
  },
  {
   "cell_type": "code",
   "execution_count": null,
   "id": "a9531a1d-9171-48d3-bc9b-289bf4596f6b",
   "metadata": {},
   "outputs": [],
   "source": [
    "bool('ten')"
   ]
  },
  {
   "cell_type": "code",
   "execution_count": 4,
   "id": "5d622e9f-b553-45ef-a4e8-bc5a168e73fe",
   "metadata": {},
   "outputs": [
    {
     "data": {
      "text/plain": [
       "'HELLOPYTHON'"
      ]
     },
     "execution_count": 4,
     "metadata": {},
     "output_type": "execute_result"
    }
   ],
   "source": [
    "index='HELLOPYTHON'\n",
    "index"
   ]
  },
  {
   "cell_type": "code",
   "execution_count": 5,
   "id": "07d247e8-25fb-4a89-ace7-e895d20b1448",
   "metadata": {},
   "outputs": [
    {
     "data": {
      "text/plain": [
       "'LLOPYTHO'"
      ]
     },
     "execution_count": 5,
     "metadata": {},
     "output_type": "execute_result"
    }
   ],
   "source": [
    "index[2:-1]"
   ]
  },
  {
   "cell_type": "code",
   "execution_count": 6,
   "id": "a5876269-5def-4c98-8210-328cd78af8bb",
   "metadata": {},
   "outputs": [
    {
     "data": {
      "text/plain": [
       "'LLOPYTH'"
      ]
     },
     "execution_count": 6,
     "metadata": {},
     "output_type": "execute_result"
    }
   ],
   "source": [
    "index[2:-2]"
   ]
  },
  {
   "cell_type": "code",
   "execution_count": 7,
   "id": "43adf9d4-7175-43d4-9209-2f7d0fc56338",
   "metadata": {},
   "outputs": [
    {
     "data": {
      "text/plain": [
       "'NHYOLH'"
      ]
     },
     "execution_count": 7,
     "metadata": {},
     "output_type": "execute_result"
    }
   ],
   "source": [
    "index[::-2]"
   ]
  },
  {
   "cell_type": "code",
   "execution_count": 8,
   "id": "d73fef90-2fe4-49ca-9329-20389c785e6b",
   "metadata": {},
   "outputs": [
    {
     "data": {
      "text/plain": [
       "'NYL'"
      ]
     },
     "execution_count": 8,
     "metadata": {},
     "output_type": "execute_result"
    }
   ],
   "source": [
    "index[::-4]\n"
   ]
  },
  {
   "cell_type": "code",
   "execution_count": 9,
   "id": "4112e64e-ff3f-447f-807c-36da22932859",
   "metadata": {},
   "outputs": [
    {
     "data": {
      "text/plain": [
       "'HELLOPY'"
      ]
     },
     "execution_count": 9,
     "metadata": {},
     "output_type": "execute_result"
    }
   ],
   "source": [
    "index[:-4]\n"
   ]
  },
  {
   "cell_type": "code",
   "execution_count": 10,
   "id": "6584d712-42f6-4de7-a2f8-04bbef25d2f3",
   "metadata": {},
   "outputs": [
    {
     "data": {
      "text/plain": [
       "'EOT'"
      ]
     },
     "execution_count": 10,
     "metadata": {},
     "output_type": "execute_result"
    }
   ],
   "source": [
    "index[1:10:3]"
   ]
  },
  {
   "cell_type": "code",
   "execution_count": 11,
   "id": "c52a45da-20cf-42ae-9e85-04df68772f1e",
   "metadata": {},
   "outputs": [
    {
     "data": {
      "image/png": "[encoded data removed]",
      "text/plain": [
       "<Figure size 640x480 with 1 Axes>"
      ]
     },
     "metadata": {},
     "output_type": "display_data"
    }
   ],
   "source": [
    "import matplotlib.pyplot as plt\n",
    "plt.plot([1,4,9,16])\n",
    "plt.ylabel('Numbers')\n",
    "plt.show()"
   ]
  },
  {
   "cell_type": "code",
   "execution_count": 12,
   "id": "6928ae28-6715-4d1d-b6dc-ebcf486b5e07",
   "metadata": {},
   "outputs": [
    {
     "data": {
      "image/png": "[encoded data removed]",
      "text/plain": [
       "<Figure size 640x480 with 1 Axes>"
      ]
     },
     "metadata": {},
     "output_type": "display_data"
    }
   ],
   "source": [
    "import matplotlib.pyplot as plt\n",
    "plt.plot([1,2,3,4])\n",
    "plt.ylabel('Numbers')\n",
    "plt.show()"
   ]
  },
  {
   "cell_type": "code",
   "execution_count": 13,
   "id": "a6dd9d3c-0e37-4fde-a2f2-c9f6d7ff4170",
   "metadata": {},
   "outputs": [
    {
     "data": {
      "image/png": "[encoded data removed]",
      "text/plain": [
       "<Figure size 640x480 with 1 Axes>"
      ]
     },
     "metadata": {},
     "output_type": "display_data"
    }
   ],
   "source": [
    "import matplotlib.pyplot as plt\n",
    "plt.plot([1,8,27,64])\n",
    "plt.ylabel('Numbers')\n",
    "plt.show()"
   ]
  },
  {
   "cell_type": "code",
   "execution_count": 14,
   "id": "98a4cefb-78f5-41b1-b775-5b756df981c3",
   "metadata": {},
   "outputs": [
    {
     "data": {
      "image/png": "[encoded data removed]",
      "text/plain": [
       "<Figure size 640x480 with 1 Axes>"
      ]
     },
     "metadata": {},
     "output_type": "display_data"
    }
   ],
   "source": [
    "import matplotlib.pyplot as plt\n",
    "plt.plot([1,2,3,4],[1,4,9,16])\n",
    "plt.axis()\n",
    "plt.show()"
   ]
  },
  {
   "cell_type": "code",
   "execution_count": 15,
   "id": "c668fbe6-8f42-4d54-9010-f549fa0bf779",
   "metadata": {},
   "outputs": [
    {
     "data": {
      "image/png": "[encoded data removed]",
      "text/plain": [
       "<Figure size 640x480 with 1 Axes>"
      ]
     },
     "metadata": {},
     "output_type": "display_data"
    }
   ],
   "source": [
    "import matplotlib.pyplot as plt\n",
    "plt.plot([1,4,9,16])\n",
    "plt.plot([1,2,3,4])\n",
    "plt.axis()\n",
    "plt.ylabel('Numbers')\n",
    "plt.show()"
   ]
  },
  {
   "cell_type": "code",
   "execution_count": 16,
   "id": "3f2cfe13-2333-4b86-8f51-4d42a2cbbf37",
   "metadata": {},
   "outputs": [
    {
     "data": {
      "image/png": "[encoded data removed]",
      "text/plain": [
       "<Figure size 640x480 with 1 Axes>"
      ]
     },
     "metadata": {},
     "output_type": "display_data"
    }
   ],
   "source": [
    "import matplotlib.pyplot as plt\n",
    "plt.plot([1,2,3,4],[1,4,9,16],[1,8,27,64],'yellow')\n",
    "plt.plot([1,2,3,4],'red')\n",
    "plt.plot([2,4,6,8],'go')\n",
    "plt.ylabel('Numbers')\n",
    "plt.xlabel('person')\n",
    "plt.show()\n"
   ]
  },
  {
   "cell_type": "code",
   "execution_count": 17,
   "id": "f51e65d6-8e95-4878-95d0-7f291cb9cc4e",
   "metadata": {},
   "outputs": [
    {
     "name": "stdout",
     "output_type": "stream",
     "text": [
      "['apple', 'banana', 'cherry']\n"
     ]
    }
   ],
   "source": [
    "thislist=[\"apple\",\"banana\",\"cherry\"]\n",
    "print (thislist)"
   ]
  },
  {
   "cell_type": "code",
   "execution_count": 18,
   "id": "21004d61-6e74-4ee1-bf85-69889794ee32",
   "metadata": {},
   "outputs": [
    {
     "data": {
      "text/plain": [
       "[]"
      ]
     },
     "execution_count": 18,
     "metadata": {},
     "output_type": "execute_result"
    }
   ],
   "source": [
    "l=[]\n",
    "l"
   ]
  },
  {
   "cell_type": "code",
   "execution_count": 19,
   "id": "b4da4175-8bab-40d9-b0e4-e2a3ce26a149",
   "metadata": {},
   "outputs": [
    {
     "data": {
      "text/plain": [
       "list"
      ]
     },
     "execution_count": 19,
     "metadata": {},
     "output_type": "execute_result"
    }
   ],
   "source": [
    "type(l)"
   ]
  },
  {
   "cell_type": "code",
   "execution_count": 20,
   "id": "cc559537-b065-4186-b8e5-3ef9fc25da36",
   "metadata": {},
   "outputs": [
    {
     "data": {
      "text/plain": [
       "[]"
      ]
     },
     "execution_count": 20,
     "metadata": {},
     "output_type": "execute_result"
    }
   ],
   "source": [
    "l"
   ]
  },
  {
   "cell_type": "code",
   "execution_count": 21,
   "id": "d5ed886e-cdda-4ab8-bab2-4a95c402eec2",
   "metadata": {},
   "outputs": [
    {
     "data": {
      "text/plain": [
       "[10]"
      ]
     },
     "execution_count": 21,
     "metadata": {},
     "output_type": "execute_result"
    }
   ],
   "source": [
    "l.append(10)\n",
    "l"
   ]
  },
  {
   "cell_type": "code",
   "execution_count": 23,
   "id": "a0ed0a76-0998-4b5d-b5a2-5abf460205f2",
   "metadata": {},
   "outputs": [
    {
     "data": {
      "text/plain": [
       "[10, 20]"
      ]
     },
     "execution_count": 23,
     "metadata": {},
     "output_type": "execute_result"
    }
   ],
   "source": [
    "l.append(20)\n",
    "l"
   ]
  },
  {
   "cell_type": "code",
   "execution_count": 24,
   "id": "9773f86c-f5b4-4047-877d-92e4e6e194f8",
   "metadata": {},
   "outputs": [
    {
     "data": {
      "text/plain": [
       "2"
      ]
     },
     "execution_count": 24,
     "metadata": {},
     "output_type": "execute_result"
    }
   ],
   "source": [
    "len(l)"
   ]
  },
  {
   "cell_type": "code",
   "execution_count": 25,
   "id": "37738056-c92e-483d-b3da-c7d98773262d",
   "metadata": {},
   "outputs": [
    {
     "data": {
      "text/plain": [
       "[10, 20]"
      ]
     },
     "execution_count": 25,
     "metadata": {},
     "output_type": "execute_result"
    }
   ],
   "source": [
    "l\n"
   ]
  },
  {
   "cell_type": "code",
   "execution_count": 26,
   "id": "1cdc917c-a96b-48fc-b784-bf504b1154ff",
   "metadata": {},
   "outputs": [
    {
     "data": {
      "text/plain": [
       "[10]"
      ]
     },
     "execution_count": 26,
     "metadata": {},
     "output_type": "execute_result"
    }
   ],
   "source": [
    "l.remove(20)\n",
    "l"
   ]
  },
  {
   "cell_type": "code",
   "execution_count": 27,
   "id": "5206acaf-077d-4880-a7f5-dde59cc1355f",
   "metadata": {},
   "outputs": [
    {
     "data": {
      "text/plain": [
       "[10]"
      ]
     },
     "execution_count": 27,
     "metadata": {},
     "output_type": "execute_result"
    }
   ],
   "source": [
    "l1=l.copy()\n",
    "l1"
   ]
  },
  {
   "cell_type": "code",
   "execution_count": 28,
   "id": "9b26a0e6-bb8b-4fc6-a39f-83234057bd91",
   "metadata": {},
   "outputs": [
    {
     "data": {
      "text/plain": [
       "True"
      ]
     },
     "execution_count": 28,
     "metadata": {},
     "output_type": "execute_result"
    }
   ],
   "source": [
    "l==l1"
   ]
  },
  {
   "cell_type": "code",
   "execution_count": 29,
   "id": "e3408eaf-d2a8-46a5-85cc-a75f075170f8",
   "metadata": {},
   "outputs": [
    {
     "data": {
      "text/plain": [
       "[10]"
      ]
     },
     "execution_count": 29,
     "metadata": {},
     "output_type": "execute_result"
    }
   ],
   "source": [
    "l"
   ]
  },
  {
   "cell_type": "code",
   "execution_count": 30,
   "id": "58d2e23c-5a2c-48fc-97e3-9138f5a371e8",
   "metadata": {},
   "outputs": [
    {
     "data": {
      "text/plain": [
       "0"
      ]
     },
     "execution_count": 30,
     "metadata": {},
     "output_type": "execute_result"
    }
   ],
   "source": [
    "l.count(0)"
   ]
  },
  {
   "cell_type": "code",
   "execution_count": 33,
   "id": "7a171e0c-c378-417c-b536-42be6030bfdd",
   "metadata": {},
   "outputs": [
    {
     "data": {
      "text/plain": [
       "[10, 10, 10]"
      ]
     },
     "execution_count": 33,
     "metadata": {},
     "output_type": "execute_result"
    }
   ],
   "source": [
    "l.append(10)\n",
    "l"
   ]
  },
  {
   "cell_type": "code",
   "execution_count": 34,
   "id": "25098a77-8a1e-468d-a00a-5d3ad48ab25e",
   "metadata": {},
   "outputs": [
    {
     "data": {
      "text/plain": [
       "3"
      ]
     },
     "execution_count": 34,
     "metadata": {},
     "output_type": "execute_result"
    }
   ],
   "source": [
    "l.count(10)"
   ]
  },
  {
   "cell_type": "code",
   "execution_count": 35,
   "id": "970bd703-fe14-479c-a853-770a3d7e5a17",
   "metadata": {},
   "outputs": [
    {
     "data": {
      "text/plain": [
       "False"
      ]
     },
     "execution_count": 35,
     "metadata": {},
     "output_type": "execute_result"
    }
   ],
   "source": [
    "l==l1"
   ]
  },
  {
   "cell_type": "code",
   "execution_count": 36,
   "id": "dc5658ab-69b3-47d2-aa26-5f70f3475669",
   "metadata": {},
   "outputs": [
    {
     "data": {
      "text/plain": [
       "[10, 10, 10]"
      ]
     },
     "execution_count": 36,
     "metadata": {},
     "output_type": "execute_result"
    }
   ],
   "source": [
    "l[:]"
   ]
  },
  {
   "cell_type": "code",
   "execution_count": 37,
   "id": "47e0d7c6-a290-4db3-97b5-9ec3cfb711cc",
   "metadata": {},
   "outputs": [
    {
     "data": {
      "text/plain": [
       "[]"
      ]
     },
     "execution_count": 37,
     "metadata": {},
     "output_type": "execute_result"
    }
   ],
   "source": [
    "l2=[]\n",
    "l2\n"
   ]
  },
  {
   "cell_type": "code",
   "execution_count": 38,
   "id": "639f4a8e-fa23-41a8-92b4-3bc935429006",
   "metadata": {},
   "outputs": [
    {
     "data": {
      "text/plain": [
       "[1, 0.56, 'True', 23j, 'nit']"
      ]
     },
     "execution_count": 38,
     "metadata": {},
     "output_type": "execute_result"
    }
   ],
   "source": [
    "l2.append(1)\n",
    "l2.append(0.56)\n",
    "l2.append('True')\n",
    "l2.append(0+23j)\n",
    "l2.append('nit')\n",
    "l2"
   ]
  },
  {
   "cell_type": "code",
   "execution_count": 39,
   "id": "7fd80617-0fbd-4e76-805f-2e597f4c287f",
   "metadata": {},
   "outputs": [
    {
     "data": {
      "text/plain": [
       "[1, 0.56, 'True', 23j, 'nit']"
      ]
     },
     "execution_count": 39,
     "metadata": {},
     "output_type": "execute_result"
    }
   ],
   "source": [
    "l3=l2.copy()\n",
    "l3"
   ]
  },
  {
   "cell_type": "code",
   "execution_count": 40,
   "id": "a1e3dad7-4830-4620-b4e9-a1e00228a819",
   "metadata": {},
   "outputs": [
    {
     "data": {
      "text/plain": [
       "5"
      ]
     },
     "execution_count": 40,
     "metadata": {},
     "output_type": "execute_result"
    }
   ],
   "source": [
    "len(l3)"
   ]
  },
  {
   "cell_type": "code",
   "execution_count": 41,
   "id": "b13511a8-f682-4059-9b60-4fbbf30552b9",
   "metadata": {},
   "outputs": [],
   "source": [
    "l3.clear()"
   ]
  },
  {
   "cell_type": "code",
   "execution_count": 42,
   "id": "2ca6f190-33ef-4e81-a62a-e5ec454f4610",
   "metadata": {},
   "outputs": [
    {
     "data": {
      "text/plain": [
       "[]"
      ]
     },
     "execution_count": 42,
     "metadata": {},
     "output_type": "execute_result"
    }
   ],
   "source": [
    "l3"
   ]
  },
  {
   "cell_type": "code",
   "execution_count": 43,
   "id": "1225e37d-2123-421c-ae5b-884e7e583200",
   "metadata": {},
   "outputs": [],
   "source": [
    "del l3"
   ]
  },
  {
   "cell_type": "code",
   "execution_count": null,
   "id": "a39d6a08-97a1-4e5c-85ef-03c8e63bfb3e",
   "metadata": {},
   "outputs": [],
   "source": [
    "l3"
   ]
  },
  {
   "cell_type": "code",
   "execution_count": 44,
   "id": "88a563b4-2bc8-42b3-a5db-e005541dd51c",
   "metadata": {},
   "outputs": [
    {
     "data": {
      "text/plain": [
       "[1, 0.56, 'True', 23j, 'nit']"
      ]
     },
     "execution_count": 44,
     "metadata": {},
     "output_type": "execute_result"
    }
   ],
   "source": [
    "l2"
   ]
  },
  {
   "cell_type": "code",
   "execution_count": 45,
   "id": "9caf16c8-80d6-4e23-81ca-2790c8e9dc9c",
   "metadata": {},
   "outputs": [
    {
     "data": {
      "text/plain": [
       "[1, 0.56, 'True', 23j, 'nit']"
      ]
     },
     "execution_count": 45,
     "metadata": {},
     "output_type": "execute_result"
    }
   ],
   "source": [
    "l2\n"
   ]
  },
  {
   "cell_type": "code",
   "execution_count": 46,
   "id": "8dbde885-29fb-42ee-8570-e2cc9b3faa82",
   "metadata": {},
   "outputs": [
    {
     "data": {
      "text/plain": [
       "1"
      ]
     },
     "execution_count": 46,
     "metadata": {},
     "output_type": "execute_result"
    }
   ],
   "source": [
    "l2.index(0.56)\n",
    "        "
   ]
  },
  {
   "cell_type": "code",
   "execution_count": 47,
   "id": "1906cfcf-6128-438e-9bc8-0bd6ddc4aebc",
   "metadata": {},
   "outputs": [
    {
     "data": {
      "text/plain": [
       "[1, 0.56, 'True', 23j, 'nit', 'mit college']"
      ]
     },
     "execution_count": 47,
     "metadata": {},
     "output_type": "execute_result"
    }
   ],
   "source": [
    "l2.insert(5,'mit college')\n",
    "l2"
   ]
  },
  {
   "cell_type": "code",
   "execution_count": 48,
   "id": "5bc95f69-ae29-48bc-9b74-3af87697b7bb",
   "metadata": {},
   "outputs": [
    {
     "data": {
      "text/plain": [
       "[1, 0.56, 'True', 'False', 23j, 'nit', 'mit college']"
      ]
     },
     "execution_count": 48,
     "metadata": {},
     "output_type": "execute_result"
    }
   ],
   "source": [
    "l2.insert(3,'False')\n",
    "l2"
   ]
  },
  {
   "cell_type": "code",
   "execution_count": 49,
   "id": "26cfc9f9-7b9c-44b4-bbc8-6451bbe78993",
   "metadata": {},
   "outputs": [
    {
     "data": {
      "text/plain": [
       "[1, 0.56, 'True', 'False', 23j, 'nit']"
      ]
     },
     "execution_count": 49,
     "metadata": {},
     "output_type": "execute_result"
    }
   ],
   "source": [
    "l2.pop()\n",
    "l2"
   ]
  },
  {
   "cell_type": "code",
   "execution_count": 50,
   "id": "97ca221e-6b30-46a0-9559-34be94ed19c7",
   "metadata": {},
   "outputs": [
    {
     "data": {
      "text/plain": [
       "[1, 0.56, 'True', 23j, 'nit']"
      ]
     },
     "execution_count": 50,
     "metadata": {},
     "output_type": "execute_result"
    }
   ],
   "source": [
    "l2.pop(3)\n",
    "l2"
   ]
  },
  {
   "cell_type": "code",
   "execution_count": 51,
   "id": "c584c337-2001-4955-85ad-672c8e3ee98e",
   "metadata": {},
   "outputs": [
    {
     "data": {
      "text/plain": [
       "[10, 100, 3, 45, 75, 23]"
      ]
     },
     "execution_count": 51,
     "metadata": {},
     "output_type": "execute_result"
    }
   ],
   "source": [
    "l3=[10,100,3,45,75,23]\n",
    "l3"
   ]
  },
  {
   "cell_type": "code",
   "execution_count": null,
   "id": "4b36bc07-49f8-4c7e-be2c-478d0ebb65f7",
   "metadata": {},
   "outputs": [],
   "source": [
    "l3.sort()\n",
    "l3"
   ]
  },
  {
   "cell_type": "code",
   "execution_count": 52,
   "id": "823f7757-0873-4a70-9206-f33285fca081",
   "metadata": {},
   "outputs": [
    {
     "data": {
      "text/plain": [
       "[3, 10, 23, 45, 75, 100]"
      ]
     },
     "execution_count": 52,
     "metadata": {},
     "output_type": "execute_result"
    }
   ],
   "source": [
    "l3.sort(reverse=False)\n",
    "l3"
   ]
  },
  {
   "cell_type": "code",
   "execution_count": null,
   "id": "06be86d5-b236-4125-a4bb-9a4ab3a09d37",
   "metadata": {},
   "outputs": [],
   "source": [
    "l3.sort(reverse=True)\n",
    "l3"
   ]
  },
  {
   "cell_type": "code",
   "execution_count": 54,
   "id": "c740ff99-88d2-47ad-ab2f-a90c5b026a51",
   "metadata": {},
   "outputs": [
    {
     "data": {
      "text/plain": [
       "['c', 'i', 'u', 'a', 'e']"
      ]
     },
     "execution_count": 54,
     "metadata": {},
     "output_type": "execute_result"
    }
   ],
   "source": [
    "l4=['c','i','u','a','e']\n",
    "l4"
   ]
  },
  {
   "cell_type": "code",
   "execution_count": 55,
   "id": "1339ced0-23bb-43b6-b569-c23334477ce7",
   "metadata": {},
   "outputs": [
    {
     "data": {
      "text/plain": [
       "['a', 'c', 'e', 'i', 'u']"
      ]
     },
     "execution_count": 55,
     "metadata": {},
     "output_type": "execute_result"
    }
   ],
   "source": [
    "l4.sort()\n",
    "l4"
   ]
  },
  {
   "cell_type": "code",
   "execution_count": 56,
   "id": "5f54ca7b-c2c4-44c0-b24f-bcd22a2b8638",
   "metadata": {},
   "outputs": [
    {
     "data": {
      "text/plain": [
       "[1, 0.56, 'True', 23j, 'nit']"
      ]
     },
     "execution_count": 56,
     "metadata": {},
     "output_type": "execute_result"
    }
   ],
   "source": [
    "l2"
   ]
  },
  {
   "cell_type": "code",
   "execution_count": 59,
   "id": "db665146-ca9b-4a79-9ad5-216789fe5a08",
   "metadata": {},
   "outputs": [
    {
     "name": "stdout",
     "output_type": "stream",
     "text": [
      "T\n",
      "r\n",
      "u\n",
      "e\n"
     ]
    }
   ],
   "source": [
    "print(l2[2][0])\n",
    "print(l2[2][1])\n",
    "print(l2[2][2])\n",
    "print(l2[2][3])"
   ]
  },
  {
   "cell_type": "code",
   "execution_count": 60,
   "id": "970454e7-140c-4406-9605-3d14b4fcaf39",
   "metadata": {},
   "outputs": [
    {
     "data": {
      "text/plain": [
       "[1, 0.56, 'True', 23j, 'nit']"
      ]
     },
     "execution_count": 60,
     "metadata": {},
     "output_type": "execute_result"
    }
   ],
   "source": [
    "l2"
   ]
  },
  {
   "cell_type": "code",
   "execution_count": 68,
   "id": "30408a16-9b18-4fad-9727-4220606d1fc1",
   "metadata": {},
   "outputs": [
    {
     "ename": "IndentationError",
     "evalue": "expected an indented block after 'for' statement on line 1 (3939201531.py, line 2)",
     "output_type": "error",
     "traceback": [
      "\u001b[1;36m  Cell \u001b[1;32mIn[68], line 2\u001b[1;36m\u001b[0m\n\u001b[1;33m    print(i)\u001b[0m\n\u001b[1;37m    ^\u001b[0m\n\u001b[1;31mIndentationError\u001b[0m\u001b[1;31m:\u001b[0m expected an indented block after 'for' statement on line 1\n"
     ]
    }
   ],
   "source": [
    "for i in (l2):\n",
    "print(i)"
   ]
  },
  {
   "cell_type": "code",
   "execution_count": 65,
   "id": "28c64742-6473-4975-b020-9d773b95d14d",
   "metadata": {},
   "outputs": [
    {
     "data": {
      "text/plain": [
       "[10, 10, 10]"
      ]
     },
     "execution_count": 65,
     "metadata": {},
     "output_type": "execute_result"
    }
   ],
   "source": [
    "l"
   ]
  },
  {
   "cell_type": "code",
   "execution_count": 66,
   "id": "a8169ee7-5751-4ecf-82b2-fbfe07741aa6",
   "metadata": {},
   "outputs": [
    {
     "data": {
      "text/plain": [
       "[10, 10, 10]"
      ]
     },
     "execution_count": 66,
     "metadata": {},
     "output_type": "execute_result"
    }
   ],
   "source": [
    "l[::-1]"
   ]
  },
  {
   "cell_type": "code",
   "execution_count": 67,
   "id": "2d6e431a-8da4-4d96-ac7b-05772324f380",
   "metadata": {},
   "outputs": [
    {
     "data": {
      "text/plain": [
       "[10]"
      ]
     },
     "execution_count": 67,
     "metadata": {},
     "output_type": "execute_result"
    }
   ],
   "source": [
    "l[::3]"
   ]
  },
  {
   "cell_type": "code",
   "execution_count": 69,
   "id": "a60f5a66-2535-4ac0-9f70-9d96871e3a70",
   "metadata": {},
   "outputs": [
    {
     "data": {
      "text/plain": [
       "[10]"
      ]
     },
     "execution_count": 69,
     "metadata": {},
     "output_type": "execute_result"
    }
   ],
   "source": [
    "l[2:]"
   ]
  },
  {
   "cell_type": "code",
   "execution_count": 70,
   "id": "ceec0ba9-2b27-46cb-ac46-78c242f2deb0",
   "metadata": {},
   "outputs": [
    {
     "data": {
      "text/plain": [
       "[10, 10, 10]"
      ]
     },
     "execution_count": 70,
     "metadata": {},
     "output_type": "execute_result"
    }
   ],
   "source": [
    "l[:3]"
   ]
  },
  {
   "cell_type": "code",
   "execution_count": 72,
   "id": "28d6e0f6-5fe4-4adf-9ea3-4f28d9fea328",
   "metadata": {},
   "outputs": [
    {
     "data": {
      "text/plain": [
       "[10, 10]"
      ]
     },
     "execution_count": 72,
     "metadata": {},
     "output_type": "execute_result"
    }
   ],
   "source": [
    "l[0:3:2]"
   ]
  },
  {
   "cell_type": "code",
   "execution_count": 73,
   "id": "59a954a7-15bc-4334-a149-a24d5672f3df",
   "metadata": {},
   "outputs": [
    {
     "data": {
      "text/plain": [
       "()"
      ]
     },
     "execution_count": 73,
     "metadata": {},
     "output_type": "execute_result"
    }
   ],
   "source": [
    "t=()\n",
    "t"
   ]
  },
  {
   "cell_type": "code",
   "execution_count": 74,
   "id": "9842036a-e77f-4df9-9e94-24e339a31a23",
   "metadata": {},
   "outputs": [
    {
     "data": {
      "text/plain": [
       "tuple"
      ]
     },
     "execution_count": 74,
     "metadata": {},
     "output_type": "execute_result"
    }
   ],
   "source": [
    "type(t)"
   ]
  },
  {
   "cell_type": "code",
   "execution_count": 75,
   "id": "3fdfe8cf-940f-40c1-9b1f-45ad8c0f5ede",
   "metadata": {},
   "outputs": [
    {
     "data": {
      "text/plain": [
       "(10, 10, 20, 30, 40)"
      ]
     },
     "execution_count": 75,
     "metadata": {},
     "output_type": "execute_result"
    }
   ],
   "source": [
    "t=(10,10,20,30,40)\n",
    "t"
   ]
  },
  {
   "cell_type": "code",
   "execution_count": 77,
   "id": "fdf51543-a55e-4d47-b233-dfac4fb5dfc7",
   "metadata": {},
   "outputs": [
    {
     "data": {
      "text/plain": [
       "(1234, 'cizp', '3rdsep')"
      ]
     },
     "execution_count": 77,
     "metadata": {},
     "output_type": "execute_result"
    }
   ],
   "source": [
    "icici=(1234,'cizp','3rdsep')\n",
    "icici"
   ]
  },
  {
   "cell_type": "code",
   "execution_count": 78,
   "id": "8035bac9-ac70-43aa-94bc-f3fae11fc1e2",
   "metadata": {},
   "outputs": [
    {
     "data": {
      "text/plain": [
       "(10, 10, 20, 30, 40)"
      ]
     },
     "execution_count": 78,
     "metadata": {},
     "output_type": "execute_result"
    }
   ],
   "source": [
    "t"
   ]
  },
  {
   "cell_type": "code",
   "execution_count": 79,
   "id": "ba8a1ad5-9643-4859-92ff-8cb23c542144",
   "metadata": {},
   "outputs": [
    {
     "data": {
      "text/plain": [
       "2"
      ]
     },
     "execution_count": 79,
     "metadata": {},
     "output_type": "execute_result"
    }
   ],
   "source": [
    "t.count(10)"
   ]
  },
  {
   "cell_type": "code",
   "execution_count": 80,
   "id": "a5877f59-f485-45a3-b58b-0cb4b719e91f",
   "metadata": {},
   "outputs": [
    {
     "data": {
      "text/plain": [
       "4"
      ]
     },
     "execution_count": 80,
     "metadata": {},
     "output_type": "execute_result"
    }
   ],
   "source": [
    "t.index(40)"
   ]
  },
  {
   "cell_type": "code",
   "execution_count": 82,
   "id": "7ae9c173-4fb8-40ab-b9b9-06250a80c0f7",
   "metadata": {},
   "outputs": [
    {
     "name": "stdout",
     "output_type": "stream",
     "text": [
      "10\n",
      "10\n",
      "20\n",
      "30\n",
      "40\n"
     ]
    }
   ],
   "source": [
    "for i in t:\n",
    "    print(i)"
   ]
  },
  {
   "cell_type": "code",
   "execution_count": 87,
   "id": "51de6942-ef0e-45a1-998b-a33d0c354e5d",
   "metadata": {},
   "outputs": [
    {
     "data": {
      "text/plain": [
       "(10, 10, 20, 30, 40)"
      ]
     },
     "execution_count": 87,
     "metadata": {},
     "output_type": "execute_result"
    }
   ],
   "source": [
    "t"
   ]
  },
  {
   "cell_type": "code",
   "execution_count": 88,
   "id": "eb68dbcf-4973-4f11-87ee-9f27f78ffae7",
   "metadata": {},
   "outputs": [
    {
     "data": {
      "text/plain": [
       "(10,\n",
       " 10,\n",
       " 20,\n",
       " 30,\n",
       " 40,\n",
       " 10,\n",
       " 10,\n",
       " 20,\n",
       " 30,\n",
       " 40,\n",
       " 10,\n",
       " 10,\n",
       " 20,\n",
       " 30,\n",
       " 40,\n",
       " 10,\n",
       " 10,\n",
       " 20,\n",
       " 30,\n",
       " 40)"
      ]
     },
     "execution_count": 88,
     "metadata": {},
     "output_type": "execute_result"
    }
   ],
   "source": [
    "t1=t*4\n",
    "t1"
   ]
  },
  {
   "cell_type": "markdown",
   "id": "766c6890-2391-4b07-8d3d-d131874c74d1",
   "metadata": {},
   "source": [
    "#tuple completed"
   ]
  },
  {
   "cell_type": "code",
   "execution_count": null,
   "id": "87b34512-9943-43bc-9622-05eced080471",
   "metadata": {},
   "outputs": [],
   "source": []
  },
  {
   "cell_type": "code",
   "execution_count": null,
   "id": "691372fc-fd04-4c6f-b197-26f4cf8bb1b8",
   "metadata": {},
   "outputs": [],
   "source": []
  },
  {
   "cell_type": "code",
   "execution_count": null,
   "id": "8dc9587c-cdbe-4867-a573-3dc6a6e9e460",
   "metadata": {},
   "outputs": [],
   "source": []
  }
 ],
 "metadata": {
  "kernelspec": {
   "display_name": "Python 3 (ipykernel)",
   "language": "python",
   "name": "python3"
  },
  "language_info": {
   "codemirror_mode": {
    "name": "ipython",
    "version": 3
   },
   "file_extension": ".py",
   "mimetype": "text/x-python",
   "name": "python",
   "nbconvert_exporter": "python",
   "pygments_lexer": "ipython3",
   "version": "3.12.4"
  }
 },
 "nbformat": 4,
 "nbformat_minor": 5
}
