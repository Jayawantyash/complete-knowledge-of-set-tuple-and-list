{
 "cells": [
  {
   "cell_type": "raw",
   "id": "1039ce8d-a292-4e04-be3c-62f53234ee52",
   "metadata": {},
   "source": [
    "string\n",
    "\n"
   ]
  },
  {
   "cell_type": "code",
   "execution_count": 1,
   "id": "e707c391-694e-448a-9da5-9a5a76aad5fb",
   "metadata": {},
   "outputs": [
    {
     "data": {
      "text/plain": [
       "'yash jayawant'"
      ]
     },
     "execution_count": 1,
     "metadata": {},
     "output_type": "execute_result"
    }
   ],
   "source": [
    "s=\"yash jayawant\"\n",
    "s"
   ]
  },
  {
   "cell_type": "code",
   "execution_count": 2,
   "id": "92028799-6bf0-4aea-a4aa-dc5e1cd9260c",
   "metadata": {},
   "outputs": [
    {
     "data": {
      "text/plain": [
       "str"
      ]
     },
     "execution_count": 2,
     "metadata": {},
     "output_type": "execute_result"
    }
   ],
   "source": [
    "type(s)"
   ]
  },
  {
   "cell_type": "code",
   "execution_count": 3,
   "id": "d0313310-b128-43bd-b956-15b1af1fedf7",
   "metadata": {},
   "outputs": [
    {
     "data": {
      "text/plain": [
       "'hello stylo guy'"
      ]
     },
     "execution_count": 3,
     "metadata": {},
     "output_type": "execute_result"
    }
   ],
   "source": [
    "s45='hello stylo guy'\n",
    "s45"
   ]
  },
  {
   "cell_type": "code",
   "execution_count": 4,
   "id": "67d90891-4e67-477c-9767-d413ee8b6c57",
   "metadata": {},
   "outputs": [
    {
     "data": {
      "text/plain": [
       "'nit \\n       hello sir'"
      ]
     },
     "execution_count": 4,
     "metadata": {},
     "output_type": "execute_result"
    }
   ],
   "source": [
    "s23='''nit \n",
    "       hello sir'''\n",
    "s23"
   ]
  },
  {
   "cell_type": "code",
   "execution_count": 6,
   "id": "949c7f14-a2ee-4fed-9d09-dc0359cf3007",
   "metadata": {},
   "outputs": [
    {
     "data": {
      "text/plain": [
       "'hello python'"
      ]
     },
     "execution_count": 6,
     "metadata": {},
     "output_type": "execute_result"
    }
   ],
   "source": [
    "str22= 'hello python'\n",
    "str22"
   ]
  },
  {
   "cell_type": "code",
   "execution_count": 7,
   "id": "4ece4ab0-f79b-420c-b0bb-77fd4569b0af",
   "metadata": {},
   "outputs": [
    {
     "data": {
      "text/plain": [
       "'l'"
      ]
     },
     "execution_count": 7,
     "metadata": {},
     "output_type": "execute_result"
    }
   ],
   "source": [
    "str22[3]"
   ]
  },
  {
   "cell_type": "code",
   "execution_count": 12,
   "id": "9a2254f1-bfe4-49e9-8bf7-3e94fd2ad3b5",
   "metadata": {},
   "outputs": [
    {
     "data": {
      "text/plain": [
       "'hello python'"
      ]
     },
     "execution_count": 12,
     "metadata": {},
     "output_type": "execute_result"
    }
   ],
   "source": [
    "str22"
   ]
  },
  {
   "cell_type": "code",
   "execution_count": 13,
   "id": "9fa93443-320c-46aa-ad69-bdb1c800c01e",
   "metadata": {},
   "outputs": [
    {
     "data": {
      "text/plain": [
       "'hello python'"
      ]
     },
     "execution_count": 13,
     "metadata": {},
     "output_type": "execute_result"
    }
   ],
   "source": [
    "str22[:]"
   ]
  },
  {
   "cell_type": "code",
   "execution_count": 14,
   "id": "4e6d7d5c-9103-4700-adc4-ab5255d60add",
   "metadata": {},
   "outputs": [
    {
     "data": {
      "text/plain": [
       "'llo p'"
      ]
     },
     "execution_count": 14,
     "metadata": {},
     "output_type": "execute_result"
    }
   ],
   "source": [
    "str22[2:7]"
   ]
  },
  {
   "cell_type": "code",
   "execution_count": 15,
   "id": "99d4c9e4-3578-4250-b412-7541fb6d10a5",
   "metadata": {},
   "outputs": [
    {
     "data": {
      "text/plain": [
       "'nit \\n       hello sir'"
      ]
     },
     "execution_count": 15,
     "metadata": {},
     "output_type": "execute_result"
    }
   ],
   "source": [
    "s23"
   ]
  },
  {
   "cell_type": "code",
   "execution_count": 16,
   "id": "300e513e-c98c-4c37-a05e-5b30ad29f879",
   "metadata": {},
   "outputs": [
    {
     "data": {
      "text/plain": [
       "'t \\n    '"
      ]
     },
     "execution_count": 16,
     "metadata": {},
     "output_type": "execute_result"
    }
   ],
   "source": [
    "s23[2:9]"
   ]
  },
  {
   "cell_type": "code",
   "execution_count": 17,
   "id": "6ddb744d-668a-4e2f-a0f5-2cfcf74a1014",
   "metadata": {},
   "outputs": [
    {
     "data": {
      "text/plain": [
       "'e'"
      ]
     },
     "execution_count": 17,
     "metadata": {},
     "output_type": "execute_result"
    }
   ],
   "source": [
    "s23[]"
   ]
  },
  {
   "cell_type": "code",
   "execution_count": 18,
   "id": "051fd855-19d0-4241-8116-cd458eaf29ff",
   "metadata": {},
   "outputs": [
    {
     "data": {
      "text/plain": [
       "'n\\n ho'"
      ]
     },
     "execution_count": 18,
     "metadata": {},
     "output_type": "execute_result"
    }
   ],
   "source": [
    "s23[0:18:4]"
   ]
  },
  {
   "cell_type": "code",
   "execution_count": 19,
   "id": "f8db7bb8-6434-4ecf-80f9-be99dbfdf7bc",
   "metadata": {},
   "outputs": [
    {
     "data": {
      "text/plain": [
       "'n   hl'"
      ]
     },
     "execution_count": 19,
     "metadata": {},
     "output_type": "execute_result"
    }
   ],
   "source": [
    "s23[0:18:3]"
   ]
  },
  {
   "cell_type": "code",
   "execution_count": 20,
   "id": "59f1fdba-db74-43d9-8248-2c9ded3e799e",
   "metadata": {},
   "outputs": [
    {
     "name": "stdout",
     "output_type": "stream",
     "text": [
      "n\n",
      "i\n",
      "t\n",
      " \n",
      "\n",
      "\n",
      " \n",
      " \n",
      " \n",
      " \n",
      " \n",
      " \n",
      " \n",
      "h\n",
      "e\n",
      "l\n",
      "l\n",
      "o\n",
      " \n",
      "s\n",
      "i\n",
      "r\n"
     ]
    }
   ],
   "source": [
    "for i in s23:\n",
    "    print(i)"
   ]
  },
  {
   "cell_type": "code",
   "execution_count": 21,
   "id": "c6f9dcea-f7da-40bc-ae05-3741beaf22c0",
   "metadata": {},
   "outputs": [
    {
     "name": "stdout",
     "output_type": "stream",
     "text": [
      "yash jayawant\n",
      "hello stylo guy\n",
      "nit \n",
      "       hello sir\n",
      "hello python\n"
     ]
    }
   ],
   "source": [
    "print(s)\n",
    "print(s45)\n",
    "print(s23)\n",
    "print(str22)"
   ]
  },
  {
   "cell_type": "markdown",
   "id": "7ed4d3cb-7270-48da-8d76-2c4012b9870b",
   "metadata": {},
   "source": [
    "type casting"
   ]
  },
  {
   "cell_type": "code",
   "execution_count": 22,
   "id": "50fa40ee-6d2b-4463-a643-a0ba340f3144",
   "metadata": {},
   "outputs": [
    {
     "data": {
      "text/plain": [
       "2"
      ]
     },
     "execution_count": 22,
     "metadata": {},
     "output_type": "execute_result"
    }
   ],
   "source": [
    "int(2.3)#float to int"
   ]
  },
  {
   "cell_type": "code",
   "execution_count": 23,
   "id": "4a20373c-7288-4854-a2a8-28224733322d",
   "metadata": {},
   "outputs": [
    {
     "data": {
      "text/plain": [
       "1"
      ]
     },
     "execution_count": 23,
     "metadata": {},
     "output_type": "execute_result"
    }
   ],
   "source": [
    "int(True)#bool to int"
   ]
  },
  {
   "cell_type": "code",
   "execution_count": 24,
   "id": "53a12150-8046-47a1-9573-2e726c0048a7",
   "metadata": {},
   "outputs": [
    {
     "data": {
      "text/plain": [
       "10"
      ]
     },
     "execution_count": 24,
     "metadata": {},
     "output_type": "execute_result"
    }
   ],
   "source": [
    "int('10')#str to int"
   ]
  },
  {
   "cell_type": "code",
   "execution_count": 25,
   "id": "e00020bd-6298-46e2-b257-f3318831ea3e",
   "metadata": {},
   "outputs": [
    {
     "data": {
      "text/plain": [
       "'yash jayawant'"
      ]
     },
     "execution_count": 25,
     "metadata": {},
     "output_type": "execute_result"
    }
   ],
   "source": [
    "s"
   ]
  },
  {
   "cell_type": "code",
   "execution_count": 26,
   "id": "90aeb7cd-11d0-4bb4-b3cb-045d4cf9b296",
   "metadata": {},
   "outputs": [],
   "source": [
    "del s"
   ]
  },
  {
   "cell_type": "code",
   "execution_count": 27,
   "id": "9e264ed6-b3e9-49f9-ad46-7c3078b3c970",
   "metadata": {},
   "outputs": [
    {
     "ename": "NameError",
     "evalue": "name 's' is not defined",
     "output_type": "error",
     "traceback": [
      "\u001b[1;31m---------------------------------------------------------------------------\u001b[0m",
      "\u001b[1;31mNameError\u001b[0m                                 Traceback (most recent call last)",
      "Cell \u001b[1;32mIn[27], line 1\u001b[0m\n\u001b[1;32m----> 1\u001b[0m s\n",
      "\u001b[1;31mNameError\u001b[0m: name 's' is not defined"
     ]
    }
   ],
   "source": [
    "s"
   ]
  },
  {
   "cell_type": "code",
   "execution_count": 30,
   "id": "081b948d-b39c-48d0-a5fa-6c887d8c4bd6",
   "metadata": {},
   "outputs": [],
   "source": [
    "import numpy as np\n",
    "a=np.nan"
   ]
  },
  {
   "cell_type": "code",
   "execution_count": 31,
   "id": "371f8061-58ba-46e9-9291-dc0fc99c5b24",
   "metadata": {},
   "outputs": [
    {
     "data": {
      "text/plain": [
       "float"
      ]
     },
     "execution_count": 31,
     "metadata": {},
     "output_type": "execute_result"
    }
   ],
   "source": [
    "type(a)"
   ]
  },
  {
   "cell_type": "code",
   "execution_count": null,
   "id": "2f23af47-c4a0-4142-9685-d7c7ae5a7566",
   "metadata": {},
   "outputs": [],
   "source": []
  }
 ],
 "metadata": {
  "kernelspec": {
   "display_name": "Python 3 (ipykernel)",
   "language": "python",
   "name": "python3"
  },
  "language_info": {
   "codemirror_mode": {
    "name": "ipython",
    "version": 3
   },
   "file_extension": ".py",
   "mimetype": "text/x-python",
   "name": "python",
   "nbconvert_exporter": "python",
   "pygments_lexer": "ipython3",
   "version": "3.12.4"
  }
 },
 "nbformat": 4,
 "nbformat_minor": 5
}
