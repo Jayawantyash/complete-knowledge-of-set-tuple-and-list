{
 "cells": [
  {
   "cell_type": "code",
   "execution_count": 25,
   "id": "f31fe6dc-664d-4664-93d7-34bae80ba76e",
   "metadata": {},
   "outputs": [],
   "source": [
    "tup1=()"
   ]
  },
  {
   "cell_type": "code",
   "execution_count": 26,
   "id": "2985bf97-f8fe-4bd5-91bc-d63e5168d279",
   "metadata": {},
   "outputs": [],
   "source": [
    "tup2=(10,20,30)"
   ]
  },
  {
   "cell_type": "code",
   "execution_count": 27,
   "id": "2ec97d90-090d-4d79-86ba-bee2c560d1a8",
   "metadata": {},
   "outputs": [],
   "source": [
    "tup3=(10.77,30.60,60.89)"
   ]
  },
  {
   "cell_type": "code",
   "execution_count": 28,
   "id": "cf146482-c1ed-4ca3-9ad4-360ab7f9dda8",
   "metadata": {},
   "outputs": [],
   "source": [
    "tup4=('one','two','three')"
   ]
  },
  {
   "cell_type": "code",
   "execution_count": 29,
   "id": "e855bc40-6481-4d72-bd87-63de806f0f0d",
   "metadata": {},
   "outputs": [],
   "source": [
    "tup5=('asif',25,(50,100),(150,90))"
   ]
  },
  {
   "cell_type": "code",
   "execution_count": 30,
   "id": "5c9e7d92-3038-454c-848a-393cd662744a",
   "metadata": {},
   "outputs": [],
   "source": [
    "tup6=(100,'asif',17.765)"
   ]
  },
  {
   "cell_type": "code",
   "execution_count": 31,
   "id": "99756f66-460b-49ec-95b7-dabec7e33f96",
   "metadata": {},
   "outputs": [],
   "source": [
    "tup7=('asif',25,[50,100],[150,90],{'david','kamal'},(99,22,33))\n",
    "                                   "
   ]
  },
  {
   "cell_type": "code",
   "execution_count": 32,
   "id": "e689b76e-5b16-45b5-b3a8-3ef10b0aadd6",
   "metadata": {},
   "outputs": [
    {
     "data": {
      "text/plain": [
       "6"
      ]
     },
     "execution_count": 32,
     "metadata": {},
     "output_type": "execute_result"
    }
   ],
   "source": [
    "len(tup7)"
   ]
  },
  {
   "cell_type": "code",
   "execution_count": 33,
   "id": "c57bc94c-0ae8-4025-ba2d-a8b44f1da06b",
   "metadata": {},
   "outputs": [
    {
     "data": {
      "text/plain": [
       "10"
      ]
     },
     "execution_count": 33,
     "metadata": {},
     "output_type": "execute_result"
    }
   ],
   "source": [
    "tup2[0]"
   ]
  },
  {
   "cell_type": "code",
   "execution_count": 34,
   "id": "3425f148-b22d-4eeb-8c5d-20d2e52669f3",
   "metadata": {},
   "outputs": [
    {
     "data": {
      "text/plain": [
       "'one'"
      ]
     },
     "execution_count": 34,
     "metadata": {},
     "output_type": "execute_result"
    }
   ],
   "source": [
    "tup4[0]"
   ]
  },
  {
   "cell_type": "code",
   "execution_count": 35,
   "id": "6709d666-ecdb-4ef1-b2e0-279e3692a2f1",
   "metadata": {},
   "outputs": [
    {
     "data": {
      "text/plain": [
       "'o'"
      ]
     },
     "execution_count": 35,
     "metadata": {},
     "output_type": "execute_result"
    }
   ],
   "source": [
    "tup4[0][0]"
   ]
  },
  {
   "cell_type": "code",
   "execution_count": 36,
   "id": "425605ee-d215-4c1c-bde4-882e5e14abbb",
   "metadata": {},
   "outputs": [
    {
     "data": {
      "text/plain": [
       "'three'"
      ]
     },
     "execution_count": 36,
     "metadata": {},
     "output_type": "execute_result"
    }
   ],
   "source": [
    "tup4[-1]"
   ]
  },
  {
   "cell_type": "code",
   "execution_count": 37,
   "id": "bc7aac00-42ee-4ef6-bc92-cb881b9aa118",
   "metadata": {},
   "outputs": [
    {
     "data": {
      "text/plain": [
       "(150, 90)"
      ]
     },
     "execution_count": 37,
     "metadata": {},
     "output_type": "execute_result"
    }
   ],
   "source": [
    "tup5[-1]"
   ]
  },
  {
   "cell_type": "code",
   "execution_count": 38,
   "id": "08e4d8ef-f304-47cb-a0b6-2890d66344aa",
   "metadata": {},
   "outputs": [],
   "source": [
    "mytup=('nine','eight','seven','six','five','three','four','two','one')"
   ]
  },
  {
   "cell_type": "code",
   "execution_count": 39,
   "id": "1e72834f-29da-4ee5-8c90-d54cf3d3b359",
   "metadata": {},
   "outputs": [
    {
     "data": {
      "text/plain": [
       "('nine', 'eight', 'seven')"
      ]
     },
     "execution_count": 39,
     "metadata": {},
     "output_type": "execute_result"
    }
   ],
   "source": [
    "mytup[0:3]"
   ]
  },
  {
   "cell_type": "code",
   "execution_count": 40,
   "id": "ab5c9c28-faed-486c-88b3-e8307fee8a09",
   "metadata": {},
   "outputs": [
    {
     "data": {
      "text/plain": [
       "('seven', 'six', 'five')"
      ]
     },
     "execution_count": 40,
     "metadata": {},
     "output_type": "execute_result"
    }
   ],
   "source": [
    "mytup[2:5]"
   ]
  },
  {
   "cell_type": "code",
   "execution_count": 41,
   "id": "d0bbd1e8-c51c-41fb-881b-0f5fff8d29a4",
   "metadata": {},
   "outputs": [
    {
     "data": {
      "text/plain": [
       "('nine', 'eight', 'seven', 'six', 'five', 'three')"
      ]
     },
     "execution_count": 41,
     "metadata": {},
     "output_type": "execute_result"
    }
   ],
   "source": [
    "mytup[:-3]"
   ]
  },
  {
   "cell_type": "code",
   "execution_count": 42,
   "id": "41781751-14ee-4aa5-a3b2-9f2565027c19",
   "metadata": {},
   "outputs": [
    {
     "data": {
      "text/plain": [
       "('nine', 'eight')"
      ]
     },
     "execution_count": 42,
     "metadata": {},
     "output_type": "execute_result"
    }
   ],
   "source": [
    "mytup[:2]"
   ]
  },
  {
   "cell_type": "code",
   "execution_count": 43,
   "id": "36e68c1a-e48d-4a89-a9a6-ad083dcc4f85",
   "metadata": {},
   "outputs": [
    {
     "data": {
      "text/plain": [
       "('nine', 'eight', 'seven')"
      ]
     },
     "execution_count": 43,
     "metadata": {},
     "output_type": "execute_result"
    }
   ],
   "source": [
    "mytup[:3]"
   ]
  },
  {
   "cell_type": "code",
   "execution_count": 44,
   "id": "734f4a4e-9f21-4b50-b418-3217f57f9948",
   "metadata": {},
   "outputs": [
    {
     "data": {
      "text/plain": [
       "('four', 'two', 'one')"
      ]
     },
     "execution_count": 44,
     "metadata": {},
     "output_type": "execute_result"
    }
   ],
   "source": [
    "mytup[-3:]"
   ]
  },
  {
   "cell_type": "code",
   "execution_count": 45,
   "id": "20ecf349-30b4-44dd-8f68-7465140064f5",
   "metadata": {},
   "outputs": [
    {
     "data": {
      "text/plain": [
       "('two', 'one')"
      ]
     },
     "execution_count": 45,
     "metadata": {},
     "output_type": "execute_result"
    }
   ],
   "source": [
    "mytup[-2:]"
   ]
  },
  {
   "cell_type": "code",
   "execution_count": 46,
   "id": "bad9265a-1b4e-4274-8149-311a1d344b73",
   "metadata": {},
   "outputs": [
    {
     "data": {
      "text/plain": [
       "('nine', 'eight', 'seven', 'six', 'five', 'three', 'four', 'two', 'one')"
      ]
     },
     "execution_count": 46,
     "metadata": {},
     "output_type": "execute_result"
    }
   ],
   "source": [
    "mytup[:]"
   ]
  },
  {
   "cell_type": "code",
   "execution_count": 47,
   "id": "0113fe52-feb1-40ba-abf2-b681e84d2037",
   "metadata": {},
   "outputs": [
    {
     "data": {
      "text/plain": [
       "('nine', 'eight', 'seven', 'six', 'five', 'three', 'four', 'two', 'one')"
      ]
     },
     "execution_count": 47,
     "metadata": {},
     "output_type": "execute_result"
    }
   ],
   "source": [
    "mytup"
   ]
  },
  {
   "cell_type": "code",
   "execution_count": 24,
   "id": "a01c344d-c39f-4c35-8c0e-c823a4e99eb2",
   "metadata": {},
   "outputs": [
    {
     "ename": "TypeError",
     "evalue": "'tuple' object doesn't support item deletion",
     "output_type": "error",
     "traceback": [
      "\u001b[1;31m---------------------------------------------------------------------------\u001b[0m",
      "\u001b[1;31mTypeError\u001b[0m                                 Traceback (most recent call last)",
      "Cell \u001b[1;32mIn[24], line 1\u001b[0m\n\u001b[1;32m----> 1\u001b[0m \u001b[38;5;28;01mdel\u001b[39;00m mytup[\u001b[38;5;241m0\u001b[39m]\n",
      "\u001b[1;31mTypeError\u001b[0m: 'tuple' object doesn't support item deletion"
     ]
    }
   ],
   "source": [
    "del mytup[0]\n",
    "#tuples are immutables"
   ]
  },
  {
   "cell_type": "code",
   "execution_count": 48,
   "id": "321727a1-55e4-4b82-a756-de93a040b98f",
   "metadata": {},
   "outputs": [
    {
     "ename": "TypeError",
     "evalue": "'tuple' object does not support item assignment",
     "output_type": "error",
     "traceback": [
      "\u001b[1;31m---------------------------------------------------------------------------\u001b[0m",
      "\u001b[1;31mTypeError\u001b[0m                                 Traceback (most recent call last)",
      "Cell \u001b[1;32mIn[48], line 1\u001b[0m\n\u001b[1;32m----> 1\u001b[0m mytup[\u001b[38;5;241m0\u001b[39m]\u001b[38;5;241m=\u001b[39m\u001b[38;5;241m1\u001b[39m\n",
      "\u001b[1;31mTypeError\u001b[0m: 'tuple' object does not support item assignment"
     ]
    }
   ],
   "source": [
    "mytup[0]=1\n",
    "#tuples are immutables"
   ]
  },
  {
   "cell_type": "code",
   "execution_count": 49,
   "id": "079874ab-87f6-458e-aefb-057d204113d8",
   "metadata": {},
   "outputs": [],
   "source": [
    "del mytup #deleting entire tuple object is possible"
   ]
  },
  {
   "cell_type": "code",
   "execution_count": 50,
   "id": "f655b898-510e-49c3-abc5-04cd56323d66",
   "metadata": {},
   "outputs": [
    {
     "data": {
      "text/plain": [
       "('nine', 'eight', 'seven', 'six', 'five', 'three', 'four', 'two', 'one')"
      ]
     },
     "execution_count": 50,
     "metadata": {},
     "output_type": "execute_result"
    }
   ],
   "source": [
    "mytup=('nine','eight','seven','six','five','three','four','two','one')\n",
    "mytup"
   ]
  },
  {
   "cell_type": "code",
   "execution_count": 51,
   "id": "78de54e7-9ee7-4f6d-a8b3-1028d5a9bd43",
   "metadata": {},
   "outputs": [
    {
     "name": "stdout",
     "output_type": "stream",
     "text": [
      "nine\n",
      "eight\n",
      "seven\n",
      "six\n",
      "five\n",
      "three\n",
      "four\n",
      "two\n",
      "one\n"
     ]
    }
   ],
   "source": [
    "for i in mytup:\n",
    "    print(i)"
   ]
  },
  {
   "cell_type": "code",
   "execution_count": 52,
   "id": "ddb0b4a5-7a98-45e5-83b2-04c2e8c71d8e",
   "metadata": {},
   "outputs": [
    {
     "name": "stdout",
     "output_type": "stream",
     "text": [
      "(0, 'nine')\n",
      "(1, 'eight')\n",
      "(2, 'seven')\n",
      "(3, 'six')\n",
      "(4, 'five')\n",
      "(5, 'three')\n",
      "(6, 'four')\n",
      "(7, 'two')\n",
      "(8, 'one')\n"
     ]
    }
   ],
   "source": [
    "for i in enumerate(mytup):\n",
    "    print(i)"
   ]
  },
  {
   "cell_type": "code",
   "execution_count": 53,
   "id": "c5a5e8d3-19de-49f1-9123-6dbed8a5b23f",
   "metadata": {},
   "outputs": [],
   "source": [
    "mytup23=('even','odd','win','fer','yash','my','true','false')"
   ]
  },
  {
   "cell_type": "code",
   "execution_count": 54,
   "id": "464e5bbe-3b03-4e27-acfd-372769518b2e",
   "metadata": {},
   "outputs": [
    {
     "data": {
      "text/plain": [
       "1"
      ]
     },
     "execution_count": 54,
     "metadata": {},
     "output_type": "execute_result"
    }
   ],
   "source": [
    "mytup23.count('even')"
   ]
  },
  {
   "cell_type": "code",
   "execution_count": 55,
   "id": "840033ee-de01-4f41-b4db-6604194c6a2c",
   "metadata": {},
   "outputs": [
    {
     "data": {
      "text/plain": [
       "('nine', 'eight', 'seven', 'six', 'five', 'three', 'four', 'two', 'one')"
      ]
     },
     "execution_count": 55,
     "metadata": {},
     "output_type": "execute_result"
    }
   ],
   "source": [
    "mytup"
   ]
  },
  {
   "cell_type": "code",
   "execution_count": 56,
   "id": "f4033309-45cd-48cb-bd8e-2cabd39e2b1d",
   "metadata": {},
   "outputs": [
    {
     "data": {
      "text/plain": [
       "True"
      ]
     },
     "execution_count": 56,
     "metadata": {},
     "output_type": "execute_result"
    }
   ],
   "source": [
    "'nine'in mytup"
   ]
  },
  {
   "cell_type": "code",
   "execution_count": 57,
   "id": "dc528597-7fcc-4929-b9a1-f21cc458f513",
   "metadata": {},
   "outputs": [
    {
     "data": {
      "text/plain": [
       "False"
      ]
     },
     "execution_count": 57,
     "metadata": {},
     "output_type": "execute_result"
    }
   ],
   "source": [
    "'even'in mytup"
   ]
  },
  {
   "cell_type": "code",
   "execution_count": 58,
   "id": "091a69e4-0252-443f-bfef-b34ad7a3bf15",
   "metadata": {},
   "outputs": [
    {
     "name": "stdout",
     "output_type": "stream",
     "text": [
      "nine is present in the tuples\n"
     ]
    }
   ],
   "source": [
    "if 'nine' in  mytup:\n",
    "   print('nine is present in the tuples')\n",
    "else:\n",
    "   print('nine is not present in the tuple')"
   ]
  },
  {
   "cell_type": "code",
   "execution_count": 59,
   "id": "6e1fab05-ae6b-46c3-bbd5-21357dcad340",
   "metadata": {},
   "outputs": [
    {
     "data": {
      "text/plain": [
       "('even', 'odd', 'win', 'fer', 'yash', 'my', 'true', 'false')"
      ]
     },
     "execution_count": 59,
     "metadata": {},
     "output_type": "execute_result"
    }
   ],
   "source": [
    "mytup23"
   ]
  },
  {
   "cell_type": "code",
   "execution_count": 60,
   "id": "da049320-3c0e-4b6c-a530-cf711eb4ff6c",
   "metadata": {},
   "outputs": [
    {
     "data": {
      "text/plain": [
       "1"
      ]
     },
     "execution_count": 60,
     "metadata": {},
     "output_type": "execute_result"
    }
   ],
   "source": [
    "mytup23.index('odd')\n"
   ]
  },
  {
   "cell_type": "code",
   "execution_count": 61,
   "id": "a0cba6c5-c2f2-4330-9aed-c2081d0b1f3f",
   "metadata": {},
   "outputs": [
    {
     "data": {
      "text/plain": [
       "4"
      ]
     },
     "execution_count": 61,
     "metadata": {},
     "output_type": "execute_result"
    }
   ],
   "source": [
    "mytup23.index('yash')"
   ]
  },
  {
   "cell_type": "code",
   "execution_count": 62,
   "id": "88c4e0ef-c008-44f9-beba-3fcd27b56116",
   "metadata": {},
   "outputs": [],
   "source": [
    "mytup24=(43,67,99,12,6,90,67)\n",
    "        "
   ]
  },
  {
   "cell_type": "code",
   "execution_count": 63,
   "id": "58e81acd-7f72-466c-beb3-0c3b9f3e813f",
   "metadata": {},
   "outputs": [
    {
     "data": {
      "text/plain": [
       "[6, 12, 43, 67, 67, 90, 99]"
      ]
     },
     "execution_count": 63,
     "metadata": {},
     "output_type": "execute_result"
    }
   ],
   "source": [
    "sorted(mytup24)"
   ]
  },
  {
   "cell_type": "code",
   "execution_count": 64,
   "id": "ec995663-2e75-46c8-b32a-ac5fbcdad10a",
   "metadata": {},
   "outputs": [
    {
     "data": {
      "text/plain": [
       "[99, 90, 67, 67, 43, 12, 6]"
      ]
     },
     "execution_count": 64,
     "metadata": {},
     "output_type": "execute_result"
    }
   ],
   "source": [
    "sorted(mytup24,reverse=True)"
   ]
  },
  {
   "cell_type": "markdown",
   "id": "945cbcba-9898-424f-a323-4921dac091b2",
   "metadata": {},
   "source": [
    "*********SEt*************"
   ]
  },
  {
   "cell_type": "code",
   "execution_count": 65,
   "id": "a4a1443e-8f8a-4d04-92bb-45dcb3fe62f1",
   "metadata": {},
   "outputs": [
    {
     "data": {
      "text/plain": [
       "{1, 2, 3, 4, 5}"
      ]
     },
     "execution_count": 65,
     "metadata": {},
     "output_type": "execute_result"
    }
   ],
   "source": [
    "myset={1,2,3,4,5}\n",
    "myset"
   ]
  },
  {
   "cell_type": "code",
   "execution_count": 66,
   "id": "12e1fe86-44f0-4eda-b86b-9c685763f313",
   "metadata": {},
   "outputs": [
    {
     "data": {
      "text/plain": [
       "5"
      ]
     },
     "execution_count": 66,
     "metadata": {},
     "output_type": "execute_result"
    }
   ],
   "source": [
    "len(myset)        "
   ]
  },
  {
   "cell_type": "code",
   "execution_count": 67,
   "id": "b0592654-4483-40b5-b76e-669abaecedd2",
   "metadata": {},
   "outputs": [
    {
     "data": {
      "text/plain": [
       "{1, 2, 3, 4, 5}"
      ]
     },
     "execution_count": 67,
     "metadata": {},
     "output_type": "execute_result"
    }
   ],
   "source": [
    "my_set={1,1,2,2,3,4,5,5}\n",
    "my_set"
   ]
  },
  {
   "cell_type": "code",
   "execution_count": 68,
   "id": "85569e4a-af78-47de-95c6-f25f4ac53ed2",
   "metadata": {},
   "outputs": [
    {
     "data": {
      "text/plain": [
       "{1.79, 2.08, 3.99, 4.56, 5.45, 7.89}"
      ]
     },
     "execution_count": 68,
     "metadata": {},
     "output_type": "execute_result"
    }
   ],
   "source": [
    "myset1={1.79,2.08,3.99,4.56,5.45,7.89}\n",
    "myset1"
   ]
  },
  {
   "cell_type": "code",
   "execution_count": 69,
   "id": "325d3f70-fa4c-46df-8099-5be31745dbdc",
   "metadata": {},
   "outputs": [
    {
     "data": {
      "text/plain": [
       "{'asif', 'umesh', 'yash'}"
      ]
     },
     "execution_count": 69,
     "metadata": {},
     "output_type": "execute_result"
    }
   ],
   "source": [
    "myset2={'asif','yash','umesh'}\n",
    "myset2"
   ]
  },
  {
   "cell_type": "code",
   "execution_count": 70,
   "id": "b17463ed-65fa-4a93-99d6-8d43b42bbee9",
   "metadata": {},
   "outputs": [
    {
     "data": {
      "text/plain": [
       "{(11, 22, 33), 10, 20, 'harsh'}"
      ]
     },
     "execution_count": 70,
     "metadata": {},
     "output_type": "execute_result"
    }
   ],
   "source": [
    "myset3={10,20,'harsh',(11,22,33)}\n",
    "myset3"
   ]
  },
  {
   "cell_type": "code",
   "execution_count": 71,
   "id": "ee5a5159-1305-404b-bb33-21e71fd3b7fe",
   "metadata": {},
   "outputs": [
    {
     "name": "stdout",
     "output_type": "stream",
     "text": [
      "<class 'set'>\n"
     ]
    }
   ],
   "source": [
    "myset4=set()\n",
    "print(type(myset4))"
   ]
  },
  {
   "cell_type": "code",
   "execution_count": 72,
   "id": "83c25743-d921-4270-9998-1d8a51c69bef",
   "metadata": {},
   "outputs": [
    {
     "data": {
      "text/plain": [
       "{'four', 'one', 'three', 'two'}"
      ]
     },
     "execution_count": 72,
     "metadata": {},
     "output_type": "execute_result"
    }
   ],
   "source": [
    "my_set1=set(('one','two','three','four'))\n",
    "my_set1"
   ]
  },
  {
   "cell_type": "code",
   "execution_count": 73,
   "id": "62fe64b9-433c-4f31-ba2d-a28332008bd6",
   "metadata": {},
   "outputs": [
    {
     "name": "stdout",
     "output_type": "stream",
     "text": [
      "five\n",
      "six\n",
      "eight\n",
      "two\n",
      "four\n",
      "seven\n",
      "three\n",
      "one\n"
     ]
    }
   ],
   "source": [
    "myset = {'one', 'two', 'three', 'four', 'five', 'six', 'seven', 'eight'}\n",
    "for i in myset:\n",
    "    print(i)"
   ]
  },
  {
   "cell_type": "code",
   "execution_count": 74,
   "id": "226a7185-4c10-409c-a6e4-ebeb0d132432",
   "metadata": {},
   "outputs": [
    {
     "name": "stdout",
     "output_type": "stream",
     "text": [
      "(0, 'five')\n",
      "(1, 'six')\n",
      "(2, 'eight')\n",
      "(3, 'two')\n",
      "(4, 'four')\n",
      "(5, 'seven')\n",
      "(6, 'three')\n",
      "(7, 'one')\n"
     ]
    }
   ],
   "source": [
    "for i in enumerate(myset):\n",
    "    print(i)"
   ]
  },
  {
   "cell_type": "code",
   "execution_count": 75,
   "id": "4125ebd1-0a59-4cbd-8571-527cb4cdcd20",
   "metadata": {},
   "outputs": [
    {
     "data": {
      "text/plain": [
       "{'eight', 'five', 'four', 'one', 'seven', 'six', 'three', 'two'}"
      ]
     },
     "execution_count": 75,
     "metadata": {},
     "output_type": "execute_result"
    }
   ],
   "source": [
    "myset"
   ]
  },
  {
   "cell_type": "code",
   "execution_count": 76,
   "id": "7687435c-a572-417b-bf77-878f70ac8c01",
   "metadata": {},
   "outputs": [
    {
     "data": {
      "text/plain": [
       "{'NINE', 'eight', 'five', 'four', 'one', 'seven', 'six', 'three', 'two'}"
      ]
     },
     "execution_count": 76,
     "metadata": {},
     "output_type": "execute_result"
    }
   ],
   "source": [
    "myset.add('NINE')\n",
    "myset"
   ]
  },
  {
   "cell_type": "code",
   "execution_count": 77,
   "id": "45386bb0-536b-4405-a2ac-fde7035d77a7",
   "metadata": {},
   "outputs": [
    {
     "data": {
      "text/plain": [
       "{'ELEVEN',\n",
       " 'NINE',\n",
       " 'TEN',\n",
       " 'TWELVE',\n",
       " 'eight',\n",
       " 'five',\n",
       " 'four',\n",
       " 'one',\n",
       " 'seven',\n",
       " 'six',\n",
       " 'three',\n",
       " 'two'}"
      ]
     },
     "execution_count": 77,
     "metadata": {},
     "output_type": "execute_result"
    }
   ],
   "source": [
    "myset.update(['TEN','ELEVEN','TWELVE'])\n",
    "myset"
   ]
  },
  {
   "cell_type": "code",
   "execution_count": 78,
   "id": "3d25bb72-46a0-4877-91fb-a5a6c211ae6f",
   "metadata": {},
   "outputs": [
    {
     "data": {
      "text/plain": [
       "{'ELEVEN',\n",
       " 'TEN',\n",
       " 'TWELVE',\n",
       " 'eight',\n",
       " 'five',\n",
       " 'four',\n",
       " 'one',\n",
       " 'seven',\n",
       " 'six',\n",
       " 'three',\n",
       " 'two'}"
      ]
     },
     "execution_count": 78,
     "metadata": {},
     "output_type": "execute_result"
    }
   ],
   "source": [
    "myset.remove('NINE')\n",
    "myset"
   ]
  },
  {
   "cell_type": "code",
   "execution_count": 79,
   "id": "e9591225-dbad-4df4-818c-f11fcefe105f",
   "metadata": {},
   "outputs": [
    {
     "data": {
      "text/plain": [
       "set()"
      ]
     },
     "execution_count": 79,
     "metadata": {},
     "output_type": "execute_result"
    }
   ],
   "source": [
    "myset.clear()\n",
    "myset"
   ]
  },
  {
   "cell_type": "code",
   "execution_count": 80,
   "id": "3fceda99-ce6f-41d6-8de1-938d3a526fb5",
   "metadata": {},
   "outputs": [
    {
     "ename": "NameError",
     "evalue": "name 'myset' is not defined",
     "output_type": "error",
     "traceback": [
      "\u001b[1;31m---------------------------------------------------------------------------\u001b[0m",
      "\u001b[1;31mNameError\u001b[0m                                 Traceback (most recent call last)",
      "Cell \u001b[1;32mIn[80], line 2\u001b[0m\n\u001b[0;32m      1\u001b[0m \u001b[38;5;28;01mdel\u001b[39;00m myset\n\u001b[1;32m----> 2\u001b[0m myset\n",
      "\u001b[1;31mNameError\u001b[0m: name 'myset' is not defined"
     ]
    }
   ],
   "source": [
    "del myset\n",
    "myset"
   ]
  },
  {
   "cell_type": "code",
   "execution_count": 81,
   "id": "e10f0090-df45-4ae9-9973-358d5cc3d548",
   "metadata": {},
   "outputs": [
    {
     "data": {
      "text/plain": [
       "{'eight', 'five', 'four', 'one', 'seven', 'six', 'three', 'two'}"
      ]
     },
     "execution_count": 81,
     "metadata": {},
     "output_type": "execute_result"
    }
   ],
   "source": [
    "myset = {'one', 'two', 'three', 'four', 'five', 'six', 'seven', 'eight'}\n",
    "myset"
   ]
  },
  {
   "cell_type": "code",
   "execution_count": 82,
   "id": "4c518996-a9d2-4c7b-89ef-a4fc73ffebe5",
   "metadata": {},
   "outputs": [
    {
     "data": {
      "text/plain": [
       "{'eight', 'five', 'four', 'one', 'seven', 'six', 'three', 'two'}"
      ]
     },
     "execution_count": 82,
     "metadata": {},
     "output_type": "execute_result"
    }
   ],
   "source": [
    "myset1=myset\n",
    "myset1"
   ]
  },
  {
   "cell_type": "code",
   "execution_count": 83,
   "id": "802ef64d-3e45-40f8-a8dc-7518be3dbe42",
   "metadata": {},
   "outputs": [
    {
     "data": {
      "text/plain": [
       "{'eight', 'five', 'four', 'one', 'seven', 'six', 'three', 'two'}"
      ]
     },
     "execution_count": 83,
     "metadata": {},
     "output_type": "execute_result"
    }
   ],
   "source": [
    "my_set = myset.copy() \n",
    "my_set"
   ]
  },
  {
   "cell_type": "code",
   "execution_count": 84,
   "id": "3670d539-17b3-470d-b33d-d0a4b64a613e",
   "metadata": {},
   "outputs": [
    {
     "data": {
      "text/plain": [
       "{'eight', 'five', 'four', 'nine', 'one', 'seven', 'six', 'three', 'two'}"
      ]
     },
     "execution_count": 84,
     "metadata": {},
     "output_type": "execute_result"
    }
   ],
   "source": [
    "myset.add('nine')\n",
    "myset"
   ]
  },
  {
   "cell_type": "code",
   "execution_count": 85,
   "id": "e1b9b80a-7cdb-4c48-8243-481277cdd365",
   "metadata": {},
   "outputs": [
    {
     "data": {
      "text/plain": [
       "{'eight', 'five', 'four', 'nine', 'one', 'seven', 'six', 'three', 'two'}"
      ]
     },
     "execution_count": 85,
     "metadata": {},
     "output_type": "execute_result"
    }
   ],
   "source": [
    "myset1"
   ]
  },
  {
   "cell_type": "code",
   "execution_count": 86,
   "id": "5124ab0e-0b4b-4fe7-a81e-f4a096742a1c",
   "metadata": {},
   "outputs": [
    {
     "data": {
      "text/plain": [
       "{'eight', 'five', 'four', 'one', 'seven', 'six', 'three', 'two'}"
      ]
     },
     "execution_count": 86,
     "metadata": {},
     "output_type": "execute_result"
    }
   ],
   "source": [
    "my_set#copied element won't change"
   ]
  },
  {
   "cell_type": "markdown",
   "id": "d974cde9-de50-42ac-8a85-17684216ad1c",
   "metadata": {},
   "source": [
    "Union,intersection,disjoint\n"
   ]
  },
  {
   "cell_type": "code",
   "execution_count": 87,
   "id": "4b77b845-df6b-450c-aa47-af96e3c9035c",
   "metadata": {},
   "outputs": [],
   "source": [
    "A = {1,2,3,4,5}\n",
    "B = {4,5,6,7,8}\n",
    "C = {8,9,10}\n"
   ]
  },
  {
   "cell_type": "code",
   "execution_count": 88,
   "id": "bbd80036-8aff-4b2a-8363-319ceafa6b57",
   "metadata": {},
   "outputs": [
    {
     "data": {
      "text/plain": [
       "{1, 2, 3, 4, 5, 6, 7, 8}"
      ]
     },
     "execution_count": 88,
     "metadata": {},
     "output_type": "execute_result"
    }
   ],
   "source": [
    "A|B"
   ]
  },
  {
   "cell_type": "markdown",
   "id": "cdc6183b-7648-4b4b-aa7d-fd703725767e",
   "metadata": {},
   "source": [
    "OR"
   ]
  },
  {
   "cell_type": "code",
   "execution_count": 89,
   "id": "02f78aaa-80de-49f9-baff-2822990a0833",
   "metadata": {},
   "outputs": [
    {
     "data": {
      "text/plain": [
       "{1, 2, 3, 4, 5, 6, 7, 8}"
      ]
     },
     "execution_count": 89,
     "metadata": {},
     "output_type": "execute_result"
    }
   ],
   "source": [
    "A.union(B)"
   ]
  },
  {
   "cell_type": "code",
   "execution_count": 90,
   "id": "a7eaf7cb-01bd-40a8-b98a-c943dad67cd1",
   "metadata": {},
   "outputs": [
    {
     "data": {
      "text/plain": [
       "{1, 2, 3, 4, 5, 6, 7, 8, 9, 10}"
      ]
     },
     "execution_count": 90,
     "metadata": {},
     "output_type": "execute_result"
    }
   ],
   "source": [
    "A.union(B,C)"
   ]
  },
  {
   "cell_type": "markdown",
   "id": "551c4fe6-1093-4740-bc96-d3f1563f6e9d",
   "metadata": {},
   "source": [
    "OR"
   ]
  },
  {
   "cell_type": "code",
   "execution_count": 91,
   "id": "24a4ece7-95b1-45c5-a47d-b8fb3cb5772e",
   "metadata": {},
   "outputs": [
    {
     "data": {
      "text/plain": [
       "{1, 2, 3, 4, 5, 6, 7, 8, 9, 10}"
      ]
     },
     "execution_count": 91,
     "metadata": {},
     "output_type": "execute_result"
    }
   ],
   "source": [
    "A|B|C"
   ]
  },
  {
   "cell_type": "code",
   "execution_count": 92,
   "id": "229b39b9-a168-4a75-9a5e-ca32096f9c3e",
   "metadata": {},
   "outputs": [],
   "source": [
    "A = {1,2,3,4,5}\n",
    "B = {4,5,6,7,8}\n"
   ]
  },
  {
   "cell_type": "code",
   "execution_count": 93,
   "id": "919d7c96-40d6-4bc3-be4b-1b1fe19d25c0",
   "metadata": {},
   "outputs": [
    {
     "data": {
      "text/plain": [
       "{4, 5}"
      ]
     },
     "execution_count": 93,
     "metadata": {},
     "output_type": "execute_result"
    }
   ],
   "source": [
    "A&B"
   ]
  },
  {
   "cell_type": "markdown",
   "id": "2c5fe413-0745-4c14-ac9e-a417df5819db",
   "metadata": {},
   "source": [
    "OR"
   ]
  },
  {
   "cell_type": "code",
   "execution_count": 94,
   "id": "39930187-8f7e-4d9b-8ce2-9b9ef284ac7a",
   "metadata": {},
   "outputs": [
    {
     "data": {
      "text/plain": [
       "{4, 5}"
      ]
     },
     "execution_count": 94,
     "metadata": {},
     "output_type": "execute_result"
    }
   ],
   "source": [
    "A.intersection(B)"
   ]
  },
  {
   "cell_type": "code",
   "execution_count": 95,
   "id": "16507788-2389-4ec4-b3d0-e29eaa535481",
   "metadata": {},
   "outputs": [],
   "source": [
    "A = {1,2,3,4,5}\n",
    "B = {4,5,6,7,8}\n"
   ]
  },
  {
   "cell_type": "code",
   "execution_count": 96,
   "id": "2aac3be3-760e-437e-8e36-4972ff098e8f",
   "metadata": {},
   "outputs": [
    {
     "data": {
      "text/plain": [
       "{1, 2, 3}"
      ]
     },
     "execution_count": 96,
     "metadata": {},
     "output_type": "execute_result"
    }
   ],
   "source": [
    "A-B#Difference"
   ]
  },
  {
   "cell_type": "code",
   "execution_count": 97,
   "id": "23193f8f-216e-47f9-a458-62d167c89a6b",
   "metadata": {},
   "outputs": [
    {
     "data": {
      "text/plain": [
       "{6, 7, 8}"
      ]
     },
     "execution_count": 97,
     "metadata": {},
     "output_type": "execute_result"
    }
   ],
   "source": [
    "B-A"
   ]
  },
  {
   "cell_type": "code",
   "execution_count": 98,
   "id": "cac319a1-8939-42dc-a33b-21cb96edfac2",
   "metadata": {},
   "outputs": [],
   "source": [
    "A = {1,2,3,4,5}\n",
    "B = {4,5,6,7,8}\n"
   ]
  },
  {
   "cell_type": "code",
   "execution_count": 99,
   "id": "a2261169-b806-4878-9315-490cd23f41b9",
   "metadata": {},
   "outputs": [
    {
     "data": {
      "text/plain": [
       "{1, 2, 3, 6, 7, 8}"
      ]
     },
     "execution_count": 99,
     "metadata": {},
     "output_type": "execute_result"
    }
   ],
   "source": [
    "A^B#Symetric difference"
   ]
  },
  {
   "cell_type": "markdown",
   "id": "af74ac16-96f3-4223-a7c0-8e266ea87964",
   "metadata": {},
   "source": [
    "subset"
   ]
  },
  {
   "cell_type": "code",
   "execution_count": 100,
   "id": "6f1f4591-1019-4394-8282-aac8ea5c1e0f",
   "metadata": {},
   "outputs": [],
   "source": [
    "A = {1,2,3,4,5,6,7,8,9}\n",
    "B = {3,4,5,6,7,8}\n",
    "C = {10,20,30,40}"
   ]
  },
  {
   "cell_type": "code",
   "execution_count": 101,
   "id": "4a640056-efe4-4fb0-9218-e0ee486fe9ca",
   "metadata": {},
   "outputs": [
    {
     "data": {
      "text/plain": [
       "True"
      ]
     },
     "execution_count": 101,
     "metadata": {},
     "output_type": "execute_result"
    }
   ],
   "source": [
    "A.issuperset(B)"
   ]
  },
  {
   "cell_type": "code",
   "execution_count": 102,
   "id": "102b2bca-86a0-45a4-a239-c82c2540f5b4",
   "metadata": {},
   "outputs": [
    {
     "data": {
      "text/plain": [
       "False"
      ]
     },
     "execution_count": 102,
     "metadata": {},
     "output_type": "execute_result"
    }
   ],
   "source": [
    "B.issuperset(A)"
   ]
  },
  {
   "cell_type": "code",
   "execution_count": 103,
   "id": "5f0139d3-7807-4f40-a7b7-ad8c79aa1e62",
   "metadata": {},
   "outputs": [
    {
     "data": {
      "text/plain": [
       "True"
      ]
     },
     "execution_count": 103,
     "metadata": {},
     "output_type": "execute_result"
    }
   ],
   "source": [
    "C.isdisjoint(A)"
   ]
  },
  {
   "cell_type": "code",
   "execution_count": 104,
   "id": "72e2d071-9f70-4bff-b4ac-a930921862b1",
   "metadata": {},
   "outputs": [
    {
     "data": {
      "text/plain": [
       "False"
      ]
     },
     "execution_count": 104,
     "metadata": {},
     "output_type": "execute_result"
    }
   ],
   "source": [
    "B.isdisjoint(A)"
   ]
  },
  {
   "cell_type": "markdown",
   "id": "6dba6457-013d-438f-a74e-6b443019459e",
   "metadata": {},
   "source": [
    "dICTIONARY"
   ]
  },
  {
   "cell_type": "code",
   "execution_count": 105,
   "id": "6c90905c-3312-4fa0-81d6-823f2aa7102e",
   "metadata": {},
   "outputs": [
    {
     "data": {
      "text/plain": [
       "{}"
      ]
     },
     "execution_count": 105,
     "metadata": {},
     "output_type": "execute_result"
    }
   ],
   "source": [
    "mydict = dict()\n",
    "mydict"
   ]
  },
  {
   "cell_type": "code",
   "execution_count": 106,
   "id": "7d337ccd-8f54-408c-afb4-a4021a384d8d",
   "metadata": {},
   "outputs": [
    {
     "data": {
      "text/plain": [
       "{1: 'one', 2: 'two', 3: 'three'}"
      ]
     },
     "execution_count": 106,
     "metadata": {},
     "output_type": "execute_result"
    }
   ],
   "source": [
    "mydict = {1:'one' , 2:'two' , 3:'three'}\n",
    "mydict"
   ]
  },
  {
   "cell_type": "code",
   "execution_count": 107,
   "id": "af1ad07e-b4fe-43b2-bb53-595d04d903ea",
   "metadata": {},
   "outputs": [
    {
     "data": {
      "text/plain": [
       "{1: 'one', 2: 'two', 3: 'three'}"
      ]
     },
     "execution_count": 107,
     "metadata": {},
     "output_type": "execute_result"
    }
   ],
   "source": [
    "mydict = dict({1:'one' , 2:'two' , 3:'three'})\n",
    "mydict\n"
   ]
  },
  {
   "cell_type": "code",
   "execution_count": 108,
   "id": "65e5e21e-19f8-4387-90e7-0a5d9eb487d0",
   "metadata": {},
   "outputs": [
    {
     "data": {
      "text/plain": [
       "{1: 'one', 'A': 'two', 3: 'three'}"
      ]
     },
     "execution_count": 108,
     "metadata": {},
     "output_type": "execute_result"
    }
   ],
   "source": [
    "mydict = {1:'one' , 'A':'two' , 3:'three'}\n",
    "mydict"
   ]
  },
  {
   "cell_type": "code",
   "execution_count": 109,
   "id": "121fc1c2-9fef-4045-a26d-2d8c8d2ec7dd",
   "metadata": {},
   "outputs": [
    {
     "data": {
      "text/plain": [
       "dict_keys([1, 'A', 3])"
      ]
     },
     "execution_count": 109,
     "metadata": {},
     "output_type": "execute_result"
    }
   ],
   "source": [
    "mydict.keys()"
   ]
  },
  {
   "cell_type": "code",
   "execution_count": 110,
   "id": "b9fe546f-fc16-475f-b71f-5f71c562d3f2",
   "metadata": {},
   "outputs": [
    {
     "data": {
      "text/plain": [
       "dict_values(['one', 'two', 'three'])"
      ]
     },
     "execution_count": 110,
     "metadata": {},
     "output_type": "execute_result"
    }
   ],
   "source": [
    "mydict.values()"
   ]
  },
  {
   "cell_type": "code",
   "execution_count": 111,
   "id": "560e1754-bc0d-4b4e-8da8-eed606a97447",
   "metadata": {},
   "outputs": [
    {
     "data": {
      "text/plain": [
       "dict_items([(1, 'one'), ('A', 'two'), (3, 'three')])"
      ]
     },
     "execution_count": 111,
     "metadata": {},
     "output_type": "execute_result"
    }
   ],
   "source": [
    "mydict.items()\n"
   ]
  },
  {
   "cell_type": "code",
   "execution_count": 112,
   "id": "356d0e94-7647-47fd-9eb8-58cdd1794224",
   "metadata": {},
   "outputs": [
    {
     "data": {
      "text/plain": [
       "{1: 'one', 2: 'two', 'A': ['asif', 'john', 'Maria']}"
      ]
     },
     "execution_count": 112,
     "metadata": {},
     "output_type": "execute_result"
    }
   ],
   "source": [
    "mydict = {1:'one' , 2:'two' , 'A':['asif' , 'john' , 'Maria']}\n",
    "mydict"
   ]
  },
  {
   "cell_type": "code",
   "execution_count": 113,
   "id": "733e3355-9539-4b22-b847-02eb12e87333",
   "metadata": {},
   "outputs": [
    {
     "data": {
      "text/plain": [
       "{1: 'one',\n",
       " 2: 'two',\n",
       " 'A': ['asif', 'john', 'Maria'],\n",
       " 'B': ('Bat', 'cat', 'hat')}"
      ]
     },
     "execution_count": 113,
     "metadata": {},
     "output_type": "execute_result"
    }
   ],
   "source": [
    "mydict = {1:'one' , 2:'two' , 'A':['asif' , 'john' , 'Maria'], 'B':('Bat' , 'cat','hat')}\n",
    "mydict"
   ]
  },
  {
   "cell_type": "code",
   "execution_count": 115,
   "id": "f29c6a38-3846-48b0-8481-2689dc068149",
   "metadata": {},
   "outputs": [
    {
     "data": {
      "text/plain": [
       "{1: 'one',\n",
       " 2: 'two',\n",
       " 'A': {'Name': 'asif', 'Age': 23},\n",
       " 'B': ('Bat', 'cat', 'hat')}"
      ]
     },
     "execution_count": 115,
     "metadata": {},
     "output_type": "execute_result"
    }
   ],
   "source": [
    "mydict = {1:'one' , 2:'two' , 'A':{'Name':'asif' , 'Age':23}, 'B':('Bat' ,'cat','hat')}\n",
    "mydict"
   ]
  },
  {
   "cell_type": "code",
   "execution_count": 116,
   "id": "41ab37c9-b507-4bb4-81fc-fc30d76603d2",
   "metadata": {},
   "outputs": [
    {
     "data": {
      "text/plain": [
       "{'b': None, 'a': None, 'd': None, 'c': None}"
      ]
     },
     "execution_count": 116,
     "metadata": {},
     "output_type": "execute_result"
    }
   ],
   "source": [
    "keys = {'a' , 'b' , 'c' , 'd'}\n",
    "mydict3 = dict.fromkeys(keys) \n",
    "mydict3"
   ]
  },
  {
   "cell_type": "code",
   "execution_count": 117,
   "id": "02710d82-2610-45b1-b825-9a72e4df5f6e",
   "metadata": {},
   "outputs": [
    {
     "data": {
      "text/plain": [
       "{'b': 24, 'a': 24, 'd': 24, 'c': 24}"
      ]
     },
     "execution_count": 117,
     "metadata": {},
     "output_type": "execute_result"
    }
   ],
   "source": [
    "keys = {'a' , 'b' , 'c' , 'd'}\n",
    "value=24\n",
    "mydict3 = dict.fromkeys(keys,value)\n",
    "mydict3"
   ]
  },
  {
   "cell_type": "code",
   "execution_count": 118,
   "id": "13400364-5308-4450-910d-c36a01c0d161",
   "metadata": {},
   "outputs": [
    {
     "data": {
      "text/plain": [
       "{'b': [24, 34, 44], 'a': [24, 34, 44], 'd': [24, 34, 44], 'c': [24, 34, 44]}"
      ]
     },
     "execution_count": 118,
     "metadata": {},
     "output_type": "execute_result"
    }
   ],
   "source": [
    "keys = {'a' , 'b' , 'c' , 'd'}\n",
    "value=[24,34,44]\n",
    "mydict3 = dict.fromkeys(keys,value)\n",
    "mydict3"
   ]
  },
  {
   "cell_type": "code",
   "execution_count": 119,
   "id": "7d038590-e22c-4a72-8611-f9f40999334d",
   "metadata": {},
   "outputs": [
    {
     "data": {
      "text/plain": [
       "{'b': [24, 34, 44, 40],\n",
       " 'a': [24, 34, 44, 40],\n",
       " 'd': [24, 34, 44, 40],\n",
       " 'c': [24, 34, 44, 40]}"
      ]
     },
     "execution_count": 119,
     "metadata": {},
     "output_type": "execute_result"
    }
   ],
   "source": [
    "value.append(40)\n",
    "mydict3"
   ]
  },
  {
   "cell_type": "code",
   "execution_count": 120,
   "id": "7d4d908b-8774-4f9d-a55c-266c717f351c",
   "metadata": {},
   "outputs": [
    {
     "data": {
      "text/plain": [
       "{1: 'one',\n",
       " 2: 'two',\n",
       " 'A': {'Name': 'asif', 'Age': 23},\n",
       " 'B': ('Bat', 'cat', 'hat')}"
      ]
     },
     "execution_count": 120,
     "metadata": {},
     "output_type": "execute_result"
    }
   ],
   "source": [
    "mydict\n"
   ]
  },
  {
   "cell_type": "code",
   "execution_count": 121,
   "id": "22c7af28-c54b-44c1-a44e-8e6120d3c56f",
   "metadata": {},
   "outputs": [
    {
     "data": {
      "text/plain": [
       "'one'"
      ]
     },
     "execution_count": 121,
     "metadata": {},
     "output_type": "execute_result"
    }
   ],
   "source": [
    "mydict[1]"
   ]
  },
  {
   "cell_type": "code",
   "execution_count": 122,
   "id": "fad95833-e3de-49a4-bd15-9a7eaf501fab",
   "metadata": {},
   "outputs": [
    {
     "data": {
      "text/plain": [
       "{'Name': 'Asif', 'ID': 74123, 'DOB': 1991, 'job': 'Analyst'}"
      ]
     },
     "execution_count": 122,
     "metadata": {},
     "output_type": "execute_result"
    }
   ],
   "source": [
    "mydict1 = {'Name':'Asif' , 'ID': 74123 , 'DOB': 1991 , 'job' :'Analyst'}\n",
    "mydict1"
   ]
  },
  {
   "cell_type": "code",
   "execution_count": 123,
   "id": "6d04019e-070f-4e35-a022-269f25aa5141",
   "metadata": {},
   "outputs": [
    {
     "data": {
      "text/plain": [
       "'Asif'"
      ]
     },
     "execution_count": 123,
     "metadata": {},
     "output_type": "execute_result"
    }
   ],
   "source": [
    "mydict1['Name']"
   ]
  },
  {
   "cell_type": "code",
   "execution_count": 124,
   "id": "128293cc-8fdf-4ca0-a976-d45ecde6ea61",
   "metadata": {},
   "outputs": [
    {
     "data": {
      "text/plain": [
       "{'Name': 'Asif', 'ID': 74123, 'DOB': 1991, 'job': 'Analyst'}"
      ]
     },
     "execution_count": 124,
     "metadata": {},
     "output_type": "execute_result"
    }
   ],
   "source": [
    "mydict1"
   ]
  },
  {
   "cell_type": "code",
   "execution_count": 125,
   "id": "02496af5-ae78-42e3-9e89-aeb4ac6b3394",
   "metadata": {},
   "outputs": [
    {
     "data": {
      "text/plain": [
       "{'Name': 'Asif', 'ID': 74123, 'DOB': 1996, 'job': 'testing'}"
      ]
     },
     "execution_count": 125,
     "metadata": {},
     "output_type": "execute_result"
    }
   ],
   "source": [
    "mydict1['DOB']=1996\n",
    "mydict1['job']='testing'\n",
    "mydict1"
   ]
  },
  {
   "cell_type": "code",
   "execution_count": 126,
   "id": "6c80cc77-6475-4e5c-aa47-114abc845981",
   "metadata": {},
   "outputs": [
    {
     "data": {
      "text/plain": [
       "('B', ('Bat', 'cat', 'hat'))"
      ]
     },
     "execution_count": 126,
     "metadata": {},
     "output_type": "execute_result"
    }
   ],
   "source": [
    "mydict.popitem()"
   ]
  },
  {
   "cell_type": "code",
   "execution_count": 127,
   "id": "e1cea1ab-7f2f-4565-a956-324cdbb3fd06",
   "metadata": {},
   "outputs": [
    {
     "data": {
      "text/plain": [
       "('job', 'testing')"
      ]
     },
     "execution_count": 127,
     "metadata": {},
     "output_type": "execute_result"
    }
   ],
   "source": [
    "mydict1.popitem()"
   ]
  },
  {
   "cell_type": "code",
   "execution_count": 128,
   "id": "59ac8177-8300-47d4-a176-bc89f7080669",
   "metadata": {},
   "outputs": [
    {
     "data": {
      "text/plain": [
       "{'Name': 'Asif', 'ID': 74123, 'DOB': 1996}"
      ]
     },
     "execution_count": 128,
     "metadata": {},
     "output_type": "execute_result"
    }
   ],
   "source": [
    "mydict1"
   ]
  },
  {
   "cell_type": "code",
   "execution_count": 129,
   "id": "e563bf81-54db-45eb-a761-e64564b3abc8",
   "metadata": {},
   "outputs": [
    {
     "data": {
      "text/plain": [
       "{'Name': 'Asif', 'DOB': 1996}"
      ]
     },
     "execution_count": 129,
     "metadata": {},
     "output_type": "execute_result"
    }
   ],
   "source": [
    "del[mydict1['ID']]\n",
    "mydict1"
   ]
  },
  {
   "cell_type": "code",
   "execution_count": 130,
   "id": "052d068e-dd63-4a1a-a3ed-89015e653221",
   "metadata": {},
   "outputs": [
    {
     "data": {
      "text/plain": [
       "{}"
      ]
     },
     "execution_count": 130,
     "metadata": {},
     "output_type": "execute_result"
    }
   ],
   "source": [
    "mydict1.clear()\n",
    "mydict1"
   ]
  },
  {
   "cell_type": "code",
   "execution_count": 131,
   "id": "bee5400b-ddc8-4cf3-9840-bcca8e0a4be2",
   "metadata": {},
   "outputs": [
    {
     "ename": "NameError",
     "evalue": "name 'mydict1' is not defined",
     "output_type": "error",
     "traceback": [
      "\u001b[1;31m---------------------------------------------------------------------------\u001b[0m",
      "\u001b[1;31mNameError\u001b[0m                                 Traceback (most recent call last)",
      "Cell \u001b[1;32mIn[131], line 2\u001b[0m\n\u001b[0;32m      1\u001b[0m \u001b[38;5;28;01mdel\u001b[39;00m mydict1\n\u001b[1;32m----> 2\u001b[0m mydict1\n",
      "\u001b[1;31mNameError\u001b[0m: name 'mydict1' is not defined"
     ]
    }
   ],
   "source": [
    "del mydict1\n",
    "mydict1"
   ]
  },
  {
   "cell_type": "code",
   "execution_count": 132,
   "id": "9ac12fd8-93d4-4b0f-b96c-b081b0268ef8",
   "metadata": {},
   "outputs": [
    {
     "data": {
      "text/plain": [
       "{'Name': 'Asif', 'ID': 12345, 'DOB': 1991, 'Address': 'Hilsinki'}"
      ]
     },
     "execution_count": 132,
     "metadata": {},
     "output_type": "execute_result"
    }
   ],
   "source": [
    "mydict = {'Name':'Asif' , 'ID': 12345 , 'DOB': 1991 , 'Address' : 'Hilsinki'}\n",
    "mydict"
   ]
  },
  {
   "cell_type": "code",
   "execution_count": 133,
   "id": "6fc26204-472d-4406-aa71-d4b8362aff2b",
   "metadata": {},
   "outputs": [
    {
     "data": {
      "text/plain": [
       "{'Name': 'Asif', 'ID': 12345, 'DOB': 1991, 'Address': 'Hilsinki'}"
      ]
     },
     "execution_count": 133,
     "metadata": {},
     "output_type": "execute_result"
    }
   ],
   "source": [
    "mydict1=mydict\n",
    "mydict1"
   ]
  },
  {
   "cell_type": "code",
   "execution_count": 134,
   "id": "50c82517-9416-444b-95d2-92d77990b5a6",
   "metadata": {},
   "outputs": [
    {
     "data": {
      "text/plain": [
       "{'Name': 'Asif', 'ID': 12345, 'DOB': 1991, 'Address': 'Hilsinki'}"
      ]
     },
     "execution_count": 134,
     "metadata": {},
     "output_type": "execute_result"
    }
   ],
   "source": [
    "mydict2=mydict.copy()\n",
    "mydict2"
   ]
  },
  {
   "cell_type": "code",
   "execution_count": 135,
   "id": "8a04a5f2-cd85-4304-ba69-68b1261eca4b",
   "metadata": {},
   "outputs": [
    {
     "data": {
      "text/plain": [
       "{'Name': 'Asif', 'ID': 12345, 'DOB': 1991, 'Address': ['Mumbai']}"
      ]
     },
     "execution_count": 135,
     "metadata": {},
     "output_type": "execute_result"
    }
   ],
   "source": [
    "mydict['Address']=['Mumbai']\n",
    "mydict"
   ]
  },
  {
   "cell_type": "code",
   "execution_count": 136,
   "id": "013ac74f-e8eb-417e-b66d-f73092bb46ce",
   "metadata": {},
   "outputs": [
    {
     "data": {
      "text/plain": [
       "{'Name': 'Asif', 'ID': 12345, 'DOB': 1991, 'Address': ['Mumbai']}"
      ]
     },
     "execution_count": 136,
     "metadata": {},
     "output_type": "execute_result"
    }
   ],
   "source": [
    "mydict1"
   ]
  },
  {
   "cell_type": "code",
   "execution_count": 137,
   "id": "8f7b23e1-a387-4f81-aa88-c35e30d65ade",
   "metadata": {},
   "outputs": [
    {
     "data": {
      "text/plain": [
       "{'Name': 'Asif',\n",
       " 'ID': 12345,\n",
       " 'DOB': 1991,\n",
       " 'Address': 'Hilsinki',\n",
       " 'Job': 'testing'}"
      ]
     },
     "execution_count": 137,
     "metadata": {},
     "output_type": "execute_result"
    }
   ],
   "source": [
    "mydict = {'Name':'Asif' , 'ID': 12345 , 'DOB': 1991 , 'Address' : 'Hilsinki','Job':'testing'}\n",
    "mydict"
   ]
  },
  {
   "cell_type": "code",
   "execution_count": 138,
   "id": "ad3de235-cf76-4350-9ceb-4907231f0ef1",
   "metadata": {},
   "outputs": [
    {
     "name": "stdout",
     "output_type": "stream",
     "text": [
      "Name : Asif\n",
      "ID : 12345\n",
      "DOB : 1991\n",
      "Address : Hilsinki\n"
     ]
    }
   ],
   "source": [
    "for i in mydict1:\n",
    "    print(i,':',mydict[i])\n"
   ]
  },
  {
   "cell_type": "code",
   "execution_count": 139,
   "id": "893a0cbb-2986-473d-b8d3-cb288af233a8",
   "metadata": {},
   "outputs": [
    {
     "data": {
      "text/plain": [
       "{'Name': 'Asif',\n",
       " 'ID': 12345,\n",
       " 'DOB': 1991,\n",
       " 'Address': 'Hilsinki',\n",
       " 'Job': 'testing'}"
      ]
     },
     "execution_count": 139,
     "metadata": {},
     "output_type": "execute_result"
    }
   ],
   "source": [
    "mydict"
   ]
  },
  {
   "cell_type": "code",
   "execution_count": 140,
   "id": "682fe2f3-c77d-4e9a-bd02-c9a176886fa9",
   "metadata": {},
   "outputs": [
    {
     "data": {
      "text/plain": [
       "True"
      ]
     },
     "execution_count": 140,
     "metadata": {},
     "output_type": "execute_result"
    }
   ],
   "source": [
    "all (mydict)"
   ]
  }
 ],
 "metadata": {
  "kernelspec": {
   "display_name": "Python 3 (ipykernel)",
   "language": "python",
   "name": "python3"
  },
  "language_info": {
   "codemirror_mode": {
    "name": "ipython",
    "version": 3
   },
   "file_extension": ".py",
   "mimetype": "text/x-python",
   "name": "python",
   "nbconvert_exporter": "python",
   "pygments_lexer": "ipython3",
   "version": "3.12.4"
  }
 },
 "nbformat": 4,
 "nbformat_minor": 5
}
